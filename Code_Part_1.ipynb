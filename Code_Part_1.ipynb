{
 "cells": [
  {
   "cell_type": "markdown",
   "metadata": {},
   "source": [
    "#  Neural Networks"
   ]
  },
  {
   "cell_type": "markdown",
   "metadata": {},
   "source": [
    "### 1 sklearn neural network"
   ]
  },
  {
   "cell_type": "code",
   "execution_count": 120,
   "metadata": {},
   "outputs": [],
   "source": [
    "import numpy as np\n",
    "from sklearn.datasets import load_iris\n",
    "from sklearn.preprocessing import MinMaxScaler, OneHotEncoder\n",
    "from sklearn.model_selection import train_test_split\n",
    "from sklearn.metrics import accuracy_score\n",
    "from sklearn.metrics import precision_recall_fscore_support\n",
    "# import mlrose_hiive\n",
    "import mlrose\n",
    "from sklearn.neural_network import MLPClassifier\n",
    "import matplotlib.pyplot as plt"
   ]
  },
  {
   "cell_type": "code",
   "execution_count": 121,
   "metadata": {},
   "outputs": [],
   "source": [
    "data = load_iris()"
   ]
  },
  {
   "cell_type": "code",
   "execution_count": 124,
   "metadata": {},
   "outputs": [],
   "source": [
    "# Split data into training and test sets\n",
    "X_train_1, X_test_1, y_train_1, y_test_1 = train_test_split(data.data, data.target, test_size = 0.2, random_state = 3)\n",
    "\n",
    "X_train = MinMaxScaler().fit_transform(X_train_1)\n",
    "X_test = MinMaxScaler().fit_transform(X_test_1)\n",
    "\n",
    "y_train = OneHotEncoder().fit_transform(y_train_1.reshape(-1, 1)).todense()\n",
    "y_test = OneHotEncoder().fit_transform(y_test_1.reshape(-1, 1)).todense()"
   ]
  },
  {
   "cell_type": "code",
   "execution_count": 125,
   "metadata": {
    "scrolled": true
   },
   "outputs": [
    {
     "name": "stdout",
     "output_type": "stream",
     "text": [
      "Iteration 1, loss = 2.14248840\n",
      "Iteration 2, loss = 2.13581776\n",
      "Iteration 3, loss = 2.12912945\n",
      "Iteration 4, loss = 2.12244331\n",
      "Iteration 5, loss = 2.11574722\n",
      "Iteration 6, loss = 2.10907354\n",
      "Iteration 7, loss = 2.10241426\n",
      "Iteration 8, loss = 2.09581554\n",
      "Iteration 9, loss = 2.08922938\n",
      "Iteration 10, loss = 2.08268369\n",
      "Iteration 11, loss = 2.07621897\n",
      "Iteration 12, loss = 2.06983700\n",
      "Iteration 13, loss = 2.06352045\n",
      "Iteration 14, loss = 2.05728889\n",
      "Iteration 15, loss = 2.05105182\n",
      "Iteration 16, loss = 2.04485573\n",
      "Iteration 17, loss = 2.03871267\n",
      "Iteration 18, loss = 2.03261860\n",
      "Iteration 19, loss = 2.02656027\n",
      "Iteration 20, loss = 2.02055260\n",
      "Iteration 21, loss = 2.01460280\n",
      "Iteration 22, loss = 2.00872198\n",
      "Iteration 23, loss = 2.00292427\n",
      "Iteration 24, loss = 1.99720683\n",
      "Iteration 25, loss = 1.99161939\n",
      "Iteration 26, loss = 1.98618523\n",
      "Iteration 27, loss = 1.98084237\n",
      "Iteration 28, loss = 1.97561828\n",
      "Iteration 29, loss = 1.97050749\n",
      "Iteration 30, loss = 1.96546245\n",
      "Iteration 31, loss = 1.96050202\n",
      "Iteration 32, loss = 1.95563694\n",
      "Iteration 33, loss = 1.95082821\n",
      "Iteration 34, loss = 1.94609644\n",
      "Iteration 35, loss = 1.94142369\n",
      "Iteration 36, loss = 1.93684347\n",
      "Iteration 37, loss = 1.93232120\n",
      "Iteration 38, loss = 1.92783380\n",
      "Iteration 39, loss = 1.92342497\n",
      "Iteration 40, loss = 1.91912415\n",
      "Iteration 41, loss = 1.91487294\n",
      "Iteration 42, loss = 1.91068359\n",
      "Iteration 43, loss = 1.90657057\n",
      "Iteration 44, loss = 1.90251253\n",
      "Iteration 45, loss = 1.89851253\n",
      "Iteration 46, loss = 1.89455640\n",
      "Iteration 47, loss = 1.89066220\n",
      "Iteration 48, loss = 1.88682556\n",
      "Iteration 49, loss = 1.88303495\n",
      "Iteration 50, loss = 1.87927883\n",
      "Iteration 51, loss = 1.87555255\n",
      "Iteration 52, loss = 1.87187111\n",
      "Iteration 53, loss = 1.86821835\n",
      "Iteration 54, loss = 1.86457464\n",
      "Iteration 55, loss = 1.86097369\n",
      "Iteration 56, loss = 1.85740714\n",
      "Iteration 57, loss = 1.85384149\n",
      "Iteration 58, loss = 1.85028876\n",
      "Iteration 59, loss = 1.84674061\n",
      "Iteration 60, loss = 1.84319434\n",
      "Iteration 61, loss = 1.83965049\n",
      "Iteration 62, loss = 1.83611502\n",
      "Iteration 63, loss = 1.83259082\n",
      "Iteration 64, loss = 1.82906562\n",
      "Iteration 65, loss = 1.82555918\n",
      "Iteration 66, loss = 1.82205578\n",
      "Iteration 67, loss = 1.81855371\n",
      "Iteration 68, loss = 1.81505960\n",
      "Iteration 69, loss = 1.81156691\n",
      "Iteration 70, loss = 1.80808803\n",
      "Iteration 71, loss = 1.80461744\n",
      "Iteration 72, loss = 1.80114256\n",
      "Iteration 73, loss = 1.79766791\n",
      "Iteration 74, loss = 1.79419540\n",
      "Iteration 75, loss = 1.79072399\n",
      "Iteration 76, loss = 1.78726036\n",
      "Iteration 77, loss = 1.78380079\n",
      "Iteration 78, loss = 1.78033864\n",
      "Iteration 79, loss = 1.77687334\n",
      "Iteration 80, loss = 1.77340724\n",
      "Iteration 81, loss = 1.76993677\n",
      "Iteration 82, loss = 1.76646991\n",
      "Iteration 83, loss = 1.76300874\n",
      "Iteration 84, loss = 1.75954983\n",
      "Iteration 85, loss = 1.75608651\n",
      "Iteration 86, loss = 1.75261995\n",
      "Iteration 87, loss = 1.74916209\n",
      "Iteration 88, loss = 1.74571638\n",
      "Iteration 89, loss = 1.74226772\n",
      "Iteration 90, loss = 1.73881987\n",
      "Iteration 91, loss = 1.73536793\n",
      "Iteration 92, loss = 1.73191270\n",
      "Iteration 93, loss = 1.72845404\n",
      "Iteration 94, loss = 1.72499433\n",
      "Iteration 95, loss = 1.72154085\n",
      "Iteration 96, loss = 1.71809201\n",
      "Iteration 97, loss = 1.71465028\n",
      "Iteration 98, loss = 1.71120909\n",
      "Iteration 99, loss = 1.70776872\n",
      "Iteration 100, loss = 1.70432659\n",
      "Iteration 101, loss = 1.70088603\n",
      "Iteration 102, loss = 1.69744927\n",
      "Iteration 103, loss = 1.69401851\n",
      "Iteration 104, loss = 1.69059211\n",
      "Iteration 105, loss = 1.68716882\n",
      "Iteration 106, loss = 1.68374613\n",
      "Iteration 107, loss = 1.68032435\n",
      "Iteration 108, loss = 1.67690391\n",
      "Iteration 109, loss = 1.67348653\n",
      "Iteration 110, loss = 1.67007121\n",
      "Iteration 111, loss = 1.66665712\n",
      "Iteration 112, loss = 1.66324431\n",
      "Iteration 113, loss = 1.65983268\n",
      "Iteration 114, loss = 1.65642230\n",
      "Iteration 115, loss = 1.65301393\n",
      "Iteration 116, loss = 1.64960791\n",
      "Iteration 117, loss = 1.64620359\n",
      "Iteration 118, loss = 1.64280103\n",
      "Iteration 119, loss = 1.63940027\n",
      "Iteration 120, loss = 1.63600048\n",
      "Iteration 121, loss = 1.63260735\n",
      "Iteration 122, loss = 1.62921750\n",
      "Iteration 123, loss = 1.62583163\n",
      "Iteration 124, loss = 1.62244880\n",
      "Iteration 125, loss = 1.61907064\n",
      "Iteration 126, loss = 1.61569633\n",
      "Iteration 127, loss = 1.61232493\n",
      "Iteration 128, loss = 1.60895449\n",
      "Iteration 129, loss = 1.60559072\n",
      "Iteration 130, loss = 1.60222990\n",
      "Iteration 131, loss = 1.59887771\n",
      "Iteration 132, loss = 1.59553026\n",
      "Iteration 133, loss = 1.59218678\n",
      "Iteration 134, loss = 1.58884913\n",
      "Iteration 135, loss = 1.58551178\n",
      "Iteration 136, loss = 1.58217538\n",
      "Iteration 137, loss = 1.57884008\n",
      "Iteration 138, loss = 1.57550496\n",
      "Iteration 139, loss = 1.57217012\n",
      "Iteration 140, loss = 1.56883521\n",
      "Iteration 141, loss = 1.56550655\n",
      "Iteration 142, loss = 1.56218657\n",
      "Iteration 143, loss = 1.55887366\n",
      "Iteration 144, loss = 1.55556722\n",
      "Iteration 145, loss = 1.55226867\n",
      "Iteration 146, loss = 1.54896647\n",
      "Iteration 147, loss = 1.54566953\n",
      "Iteration 148, loss = 1.54237265\n",
      "Iteration 149, loss = 1.53907714\n",
      "Iteration 150, loss = 1.53578781\n",
      "Iteration 151, loss = 1.53251117\n",
      "Iteration 152, loss = 1.52924348\n",
      "Iteration 153, loss = 1.52597630\n",
      "Iteration 154, loss = 1.52271131\n",
      "Iteration 155, loss = 1.51944815\n",
      "Iteration 156, loss = 1.51618702\n",
      "Iteration 157, loss = 1.51292721\n",
      "Iteration 158, loss = 1.50966818\n",
      "Iteration 159, loss = 1.50640898\n",
      "Iteration 160, loss = 1.50314982\n",
      "Iteration 161, loss = 1.49989555\n",
      "Iteration 162, loss = 1.49664539\n",
      "Iteration 163, loss = 1.49339534\n",
      "Iteration 164, loss = 1.49014487\n",
      "Iteration 165, loss = 1.48689475\n",
      "Iteration 166, loss = 1.48364644\n",
      "Iteration 167, loss = 1.48039879\n",
      "Iteration 168, loss = 1.47715329\n",
      "Iteration 169, loss = 1.47390492\n",
      "Iteration 170, loss = 1.47065385\n",
      "Iteration 171, loss = 1.46738700\n",
      "Iteration 172, loss = 1.46411167\n",
      "Iteration 173, loss = 1.46082981\n",
      "Iteration 174, loss = 1.45754661\n",
      "Iteration 175, loss = 1.45425551\n",
      "Iteration 176, loss = 1.45095055\n",
      "Iteration 177, loss = 1.44763183\n",
      "Iteration 178, loss = 1.44430132\n",
      "Iteration 179, loss = 1.44095867\n",
      "Iteration 180, loss = 1.43760742\n",
      "Iteration 181, loss = 1.43424481\n",
      "Iteration 182, loss = 1.43086095\n",
      "Iteration 183, loss = 1.42746042\n",
      "Iteration 184, loss = 1.42405837\n",
      "Iteration 185, loss = 1.42064674\n",
      "Iteration 186, loss = 1.41722276\n",
      "Iteration 187, loss = 1.41377985\n",
      "Iteration 188, loss = 1.41032371\n",
      "Iteration 189, loss = 1.40688084\n",
      "Iteration 190, loss = 1.40343067\n",
      "Iteration 191, loss = 1.39998525\n",
      "Iteration 192, loss = 1.39654727\n",
      "Iteration 193, loss = 1.39311726\n",
      "Iteration 194, loss = 1.38967634\n",
      "Iteration 195, loss = 1.38623936\n",
      "Iteration 196, loss = 1.38281556\n",
      "Iteration 197, loss = 1.37939791\n",
      "Iteration 198, loss = 1.37599888\n",
      "Iteration 199, loss = 1.37260120\n",
      "Iteration 200, loss = 1.36919057\n",
      "Iteration 201, loss = 1.36577453\n",
      "Iteration 202, loss = 1.36239930\n",
      "Iteration 203, loss = 1.35903280\n",
      "Iteration 204, loss = 1.35567514\n",
      "Iteration 205, loss = 1.35230466\n",
      "Iteration 206, loss = 1.34892326\n",
      "Iteration 207, loss = 1.34554518\n",
      "Iteration 208, loss = 1.34217621\n",
      "Iteration 209, loss = 1.33880957\n",
      "Iteration 210, loss = 1.33544278\n",
      "Iteration 211, loss = 1.33206858\n",
      "Iteration 212, loss = 1.32869189\n",
      "Iteration 213, loss = 1.32531158\n",
      "Iteration 214, loss = 1.32193070\n",
      "Iteration 215, loss = 1.31854559\n",
      "Iteration 216, loss = 1.31516100\n",
      "Iteration 217, loss = 1.31177096\n",
      "Iteration 218, loss = 1.30837641\n",
      "Iteration 219, loss = 1.30497624\n",
      "Iteration 220, loss = 1.30156988\n",
      "Iteration 221, loss = 1.29815773\n",
      "Iteration 222, loss = 1.29473929\n",
      "Iteration 223, loss = 1.29131420\n",
      "Iteration 224, loss = 1.28788432\n",
      "Iteration 225, loss = 1.28445590\n",
      "Iteration 226, loss = 1.28101991\n",
      "Iteration 227, loss = 1.27757721\n",
      "Iteration 228, loss = 1.27412631\n",
      "Iteration 229, loss = 1.27066544\n",
      "Iteration 230, loss = 1.26719568\n",
      "Iteration 231, loss = 1.26371998\n",
      "Iteration 232, loss = 1.26025100\n",
      "Iteration 233, loss = 1.25680688\n",
      "Iteration 234, loss = 1.25336156\n",
      "Iteration 235, loss = 1.24991026\n",
      "Iteration 236, loss = 1.24645635\n",
      "Iteration 237, loss = 1.24299843\n",
      "Iteration 238, loss = 1.23953482\n",
      "Iteration 239, loss = 1.23606368\n",
      "Iteration 240, loss = 1.23258570\n",
      "Iteration 241, loss = 1.22910241\n",
      "Iteration 242, loss = 1.22561212\n",
      "Iteration 243, loss = 1.22211504\n",
      "Iteration 244, loss = 1.21861073\n",
      "Iteration 245, loss = 1.21510000\n",
      "Iteration 246, loss = 1.21158254\n",
      "Iteration 247, loss = 1.20806588\n",
      "Iteration 248, loss = 1.20454083\n",
      "Iteration 249, loss = 1.20100676\n",
      "Iteration 250, loss = 1.19746439\n",
      "Iteration 251, loss = 1.19391307\n",
      "Iteration 252, loss = 1.19035264\n",
      "Iteration 253, loss = 1.18678585\n",
      "Iteration 254, loss = 1.18321227\n",
      "Iteration 255, loss = 1.17963601\n",
      "Iteration 256, loss = 1.17605084\n",
      "Iteration 257, loss = 1.17245169\n",
      "Iteration 258, loss = 1.16884073\n",
      "Iteration 259, loss = 1.16522724\n",
      "Iteration 260, loss = 1.16159966\n",
      "Iteration 261, loss = 1.15795739\n",
      "Iteration 262, loss = 1.15430904\n",
      "Iteration 263, loss = 1.15065057\n",
      "Iteration 264, loss = 1.14698869\n",
      "Iteration 265, loss = 1.14332157\n",
      "Iteration 266, loss = 1.13966642\n",
      "Iteration 267, loss = 1.13600712\n",
      "Iteration 268, loss = 1.13234631\n",
      "Iteration 269, loss = 1.12868866\n",
      "Iteration 270, loss = 1.12502910\n",
      "Iteration 271, loss = 1.12135955\n",
      "Iteration 272, loss = 1.11768772\n",
      "Iteration 273, loss = 1.11401012\n",
      "Iteration 274, loss = 1.11032504\n",
      "Iteration 275, loss = 1.10663171\n",
      "Iteration 276, loss = 1.10293047\n",
      "Iteration 277, loss = 1.09922961\n",
      "Iteration 278, loss = 1.09552663\n",
      "Iteration 279, loss = 1.09181892\n",
      "Iteration 280, loss = 1.08810711\n",
      "Iteration 281, loss = 1.08438908\n",
      "Iteration 282, loss = 1.08066385\n",
      "Iteration 283, loss = 1.07693221\n",
      "Iteration 284, loss = 1.07319440\n",
      "Iteration 285, loss = 1.06945464\n",
      "Iteration 286, loss = 1.06571208\n",
      "Iteration 287, loss = 1.06196634\n",
      "Iteration 288, loss = 1.05821610\n",
      "Iteration 289, loss = 1.05446132\n",
      "Iteration 290, loss = 1.05070228\n",
      "Iteration 291, loss = 1.04693899\n",
      "Iteration 292, loss = 1.04317159\n",
      "Iteration 293, loss = 1.03939987\n",
      "Iteration 294, loss = 1.03562387\n",
      "Iteration 295, loss = 1.03184514\n",
      "Iteration 296, loss = 1.02806287\n",
      "Iteration 297, loss = 1.02427645\n",
      "Iteration 298, loss = 1.02048640\n",
      "Iteration 299, loss = 1.01669267\n",
      "Iteration 300, loss = 1.01289659\n",
      "Iteration 301, loss = 1.00909843\n",
      "Iteration 302, loss = 1.00529859\n",
      "Iteration 303, loss = 1.00149568\n",
      "Iteration 304, loss = 0.99768932\n",
      "Iteration 305, loss = 0.99388079\n",
      "Iteration 306, loss = 0.99006892\n",
      "Iteration 307, loss = 0.98625376\n",
      "Iteration 308, loss = 0.98243535\n",
      "Iteration 309, loss = 0.97861377\n",
      "Iteration 310, loss = 0.97478906\n",
      "Iteration 311, loss = 0.97096126\n",
      "Iteration 312, loss = 0.96712900\n",
      "Iteration 313, loss = 0.96329009\n",
      "Iteration 314, loss = 0.95944737\n",
      "Iteration 315, loss = 0.95560128\n",
      "Iteration 316, loss = 0.95175230\n",
      "Iteration 317, loss = 0.94790296\n",
      "Iteration 318, loss = 0.94405155\n",
      "Iteration 319, loss = 0.94019862\n",
      "Iteration 320, loss = 0.93634363\n",
      "Iteration 321, loss = 0.93249084\n",
      "Iteration 322, loss = 0.92863596\n",
      "Iteration 323, loss = 0.92477909\n",
      "Iteration 324, loss = 0.92092030\n",
      "Iteration 325, loss = 0.91705968\n",
      "Iteration 326, loss = 0.91319729\n",
      "Iteration 327, loss = 0.90933320\n",
      "Iteration 328, loss = 0.90546712\n",
      "Iteration 329, loss = 0.90159923\n",
      "Iteration 330, loss = 0.89772928\n",
      "Iteration 331, loss = 0.89385815\n",
      "Iteration 332, loss = 0.88998701\n"
     ]
    },
    {
     "name": "stdout",
     "output_type": "stream",
     "text": [
      "Iteration 333, loss = 0.88611288\n",
      "Iteration 334, loss = 0.88223532\n",
      "Iteration 335, loss = 0.87835363\n",
      "Iteration 336, loss = 0.87445898\n",
      "Iteration 337, loss = 0.87055686\n",
      "Iteration 338, loss = 0.86662831\n",
      "Iteration 339, loss = 0.86267659\n",
      "Iteration 340, loss = 0.85870495\n",
      "Iteration 341, loss = 0.85471456\n",
      "Iteration 342, loss = 0.85069943\n",
      "Iteration 343, loss = 0.84665557\n",
      "Iteration 344, loss = 0.84258438\n",
      "Iteration 345, loss = 0.83849172\n",
      "Iteration 346, loss = 0.83437714\n",
      "Iteration 347, loss = 0.83024231\n",
      "Iteration 348, loss = 0.82609366\n",
      "Iteration 349, loss = 0.82193226\n",
      "Iteration 350, loss = 0.81775916\n",
      "Iteration 351, loss = 0.81357538\n",
      "Iteration 352, loss = 0.80936794\n",
      "Iteration 353, loss = 0.80514536\n",
      "Iteration 354, loss = 0.80091369\n",
      "Iteration 355, loss = 0.79666914\n",
      "Iteration 356, loss = 0.79241616\n",
      "Iteration 357, loss = 0.78815673\n",
      "Iteration 358, loss = 0.78389192\n",
      "Iteration 359, loss = 0.77962283\n",
      "Iteration 360, loss = 0.77535083\n",
      "Iteration 361, loss = 0.77107869\n",
      "Iteration 362, loss = 0.76680761\n",
      "Iteration 363, loss = 0.76253660\n",
      "Iteration 364, loss = 0.75826653\n",
      "Iteration 365, loss = 0.75399862\n",
      "Iteration 366, loss = 0.74973449\n",
      "Iteration 367, loss = 0.74547400\n",
      "Iteration 368, loss = 0.74121777\n",
      "Iteration 369, loss = 0.73697028\n",
      "Iteration 370, loss = 0.73272943\n",
      "Iteration 371, loss = 0.72849571\n",
      "Iteration 372, loss = 0.72426989\n",
      "Iteration 373, loss = 0.72005298\n",
      "Iteration 374, loss = 0.71584753\n",
      "Iteration 375, loss = 0.71165343\n",
      "Iteration 376, loss = 0.70747083\n",
      "Iteration 377, loss = 0.70330068\n",
      "Iteration 378, loss = 0.69914212\n",
      "Iteration 379, loss = 0.69499586\n",
      "Iteration 380, loss = 0.69086522\n",
      "Iteration 381, loss = 0.68674652\n",
      "Iteration 382, loss = 0.68264140\n",
      "Iteration 383, loss = 0.67855139\n",
      "Iteration 384, loss = 0.67447992\n",
      "Iteration 385, loss = 0.67042375\n",
      "Iteration 386, loss = 0.66638515\n",
      "Iteration 387, loss = 0.66236371\n",
      "Iteration 388, loss = 0.65835932\n",
      "Iteration 389, loss = 0.65437220\n",
      "Iteration 390, loss = 0.65040246\n",
      "Iteration 391, loss = 0.64645052\n",
      "Iteration 392, loss = 0.64251662\n",
      "Iteration 393, loss = 0.63860055\n",
      "Iteration 394, loss = 0.63470288\n",
      "Iteration 395, loss = 0.63082378\n",
      "Iteration 396, loss = 0.62696335\n",
      "Iteration 397, loss = 0.62312189\n",
      "Iteration 398, loss = 0.61929984\n",
      "Iteration 399, loss = 0.61549827\n",
      "Iteration 400, loss = 0.61171765\n",
      "Iteration 401, loss = 0.60795694\n",
      "Iteration 402, loss = 0.60421643\n",
      "Iteration 403, loss = 0.60049627\n",
      "Iteration 404, loss = 0.59679656\n",
      "Iteration 405, loss = 0.59311729\n",
      "Iteration 406, loss = 0.58945842\n",
      "Iteration 407, loss = 0.58582044\n",
      "Iteration 408, loss = 0.58222750\n",
      "Iteration 409, loss = 0.57865914\n",
      "Iteration 410, loss = 0.57511394\n",
      "Iteration 411, loss = 0.57160101\n",
      "Iteration 412, loss = 0.56810683\n",
      "Iteration 413, loss = 0.56463274\n",
      "Iteration 414, loss = 0.56118026\n",
      "Iteration 415, loss = 0.55774893\n",
      "Iteration 416, loss = 0.55433699\n",
      "Iteration 417, loss = 0.55094634\n",
      "Iteration 418, loss = 0.54757625\n",
      "Iteration 419, loss = 0.54422671\n",
      "Iteration 420, loss = 0.54089775\n",
      "Iteration 421, loss = 0.53758939\n",
      "Iteration 422, loss = 0.53430170\n",
      "Iteration 423, loss = 0.53103476\n",
      "Iteration 424, loss = 0.52778864\n",
      "Iteration 425, loss = 0.52456343\n",
      "Iteration 426, loss = 0.52135915\n",
      "Iteration 427, loss = 0.51817583\n",
      "Iteration 428, loss = 0.51501341\n",
      "Iteration 429, loss = 0.51187187\n",
      "Iteration 430, loss = 0.50875111\n",
      "Iteration 431, loss = 0.50565108\n",
      "Iteration 432, loss = 0.50257170\n",
      "Iteration 433, loss = 0.49951294\n",
      "Iteration 434, loss = 0.49647475\n",
      "Iteration 435, loss = 0.49345714\n",
      "Iteration 436, loss = 0.49046043\n",
      "Iteration 437, loss = 0.48748490\n",
      "Iteration 438, loss = 0.48453007\n",
      "Iteration 439, loss = 0.48159899\n",
      "Iteration 440, loss = 0.47868814\n",
      "Iteration 441, loss = 0.47579886\n",
      "Iteration 442, loss = 0.47292919\n",
      "Iteration 443, loss = 0.47007915\n",
      "Iteration 444, loss = 0.46724877\n",
      "Iteration 445, loss = 0.46443804\n",
      "Iteration 446, loss = 0.46164703\n",
      "Iteration 447, loss = 0.45887568\n",
      "Iteration 448, loss = 0.45612614\n",
      "Iteration 449, loss = 0.45339641\n",
      "Iteration 450, loss = 0.45068600\n",
      "Iteration 451, loss = 0.44799504\n",
      "Iteration 452, loss = 0.44532341\n",
      "Iteration 453, loss = 0.44267107\n",
      "Iteration 454, loss = 0.44003797\n",
      "Iteration 455, loss = 0.43742405\n",
      "Iteration 456, loss = 0.43482928\n",
      "Iteration 457, loss = 0.43225495\n",
      "Iteration 458, loss = 0.42969993\n",
      "Iteration 459, loss = 0.42716357\n",
      "Iteration 460, loss = 0.42464799\n",
      "Iteration 461, loss = 0.42215790\n",
      "Iteration 462, loss = 0.41968580\n",
      "Iteration 463, loss = 0.41722984\n",
      "Iteration 464, loss = 0.41479203\n",
      "Iteration 465, loss = 0.41237645\n",
      "Iteration 466, loss = 0.40998212\n",
      "Iteration 467, loss = 0.40760643\n",
      "Iteration 468, loss = 0.40524875\n",
      "Iteration 469, loss = 0.40290924\n",
      "Iteration 470, loss = 0.40058695\n",
      "Iteration 471, loss = 0.39828445\n",
      "Iteration 472, loss = 0.39600187\n",
      "Iteration 473, loss = 0.39373713\n",
      "Iteration 474, loss = 0.39149061\n",
      "Iteration 475, loss = 0.38926137\n",
      "Iteration 476, loss = 0.38705015\n",
      "Iteration 477, loss = 0.38485668\n",
      "Iteration 478, loss = 0.38268072\n",
      "Iteration 479, loss = 0.38052233\n",
      "Iteration 480, loss = 0.37838130\n",
      "Iteration 481, loss = 0.37625810\n",
      "Iteration 482, loss = 0.37415231\n",
      "Iteration 483, loss = 0.37206340\n",
      "Iteration 484, loss = 0.36999194\n",
      "Iteration 485, loss = 0.36793752\n",
      "Iteration 486, loss = 0.36590085\n",
      "Iteration 487, loss = 0.36388084\n",
      "Iteration 488, loss = 0.36187751\n",
      "Iteration 489, loss = 0.35989068\n",
      "Iteration 490, loss = 0.35792007\n",
      "Iteration 491, loss = 0.35596590\n",
      "Iteration 492, loss = 0.35402775\n",
      "Iteration 493, loss = 0.35210614\n",
      "Iteration 494, loss = 0.35020020\n",
      "Iteration 495, loss = 0.34830982\n",
      "Iteration 496, loss = 0.34643602\n",
      "Iteration 497, loss = 0.34457768\n",
      "Iteration 498, loss = 0.34273467\n",
      "Iteration 499, loss = 0.34090692\n",
      "Iteration 500, loss = 0.33909482\n",
      "Iteration 501, loss = 0.33729874\n",
      "Iteration 502, loss = 0.33551789\n",
      "Iteration 503, loss = 0.33375190\n",
      "Iteration 504, loss = 0.33200041\n",
      "Iteration 505, loss = 0.33026437\n",
      "Iteration 506, loss = 0.32854288\n",
      "Iteration 507, loss = 0.32683606\n",
      "Iteration 508, loss = 0.32514369\n",
      "Iteration 509, loss = 0.32346550\n",
      "Iteration 510, loss = 0.32180139\n",
      "Iteration 511, loss = 0.32015170\n",
      "Iteration 512, loss = 0.31851607\n",
      "Iteration 513, loss = 0.31689404\n",
      "Iteration 514, loss = 0.31528640\n",
      "Iteration 515, loss = 0.31369295\n",
      "Iteration 516, loss = 0.31211256\n",
      "Iteration 517, loss = 0.31054510\n",
      "Iteration 518, loss = 0.30899166\n",
      "Iteration 519, loss = 0.30745179\n",
      "Iteration 520, loss = 0.30592479\n",
      "Iteration 521, loss = 0.30441067\n",
      "Iteration 522, loss = 0.30290998\n",
      "Iteration 523, loss = 0.30142201\n",
      "Iteration 524, loss = 0.29994685\n",
      "Iteration 525, loss = 0.29848428\n",
      "Iteration 526, loss = 0.29703462\n",
      "Iteration 527, loss = 0.29559730\n",
      "Iteration 528, loss = 0.29417220\n",
      "Iteration 529, loss = 0.29275922\n",
      "Iteration 530, loss = 0.29136071\n",
      "Iteration 531, loss = 0.28997447\n",
      "Iteration 532, loss = 0.28859946\n",
      "Iteration 533, loss = 0.28723810\n",
      "Iteration 534, loss = 0.28588929\n",
      "Iteration 535, loss = 0.28455181\n",
      "Iteration 536, loss = 0.28322587\n",
      "Iteration 537, loss = 0.28191206\n",
      "Iteration 538, loss = 0.28060999\n",
      "Iteration 539, loss = 0.27931932\n",
      "Iteration 540, loss = 0.27804002\n",
      "Iteration 541, loss = 0.27677168\n",
      "Iteration 542, loss = 0.27551446\n",
      "Iteration 543, loss = 0.27426816\n",
      "Iteration 544, loss = 0.27303272\n",
      "Iteration 545, loss = 0.27180810\n",
      "Iteration 546, loss = 0.27059405\n",
      "Iteration 547, loss = 0.26939232\n",
      "Iteration 548, loss = 0.26820147\n",
      "Iteration 549, loss = 0.26702074\n",
      "Iteration 550, loss = 0.26585080\n",
      "Iteration 551, loss = 0.26469173\n",
      "Iteration 552, loss = 0.26354291\n",
      "Iteration 553, loss = 0.26240385\n",
      "Iteration 554, loss = 0.26127427\n",
      "Iteration 555, loss = 0.26015508\n",
      "Iteration 556, loss = 0.25904603\n",
      "Iteration 557, loss = 0.25794639\n",
      "Iteration 558, loss = 0.25685610\n",
      "Iteration 559, loss = 0.25577558\n",
      "Iteration 560, loss = 0.25470453\n",
      "Iteration 561, loss = 0.25364346\n",
      "Iteration 562, loss = 0.25259136\n",
      "Iteration 563, loss = 0.25154888\n",
      "Iteration 564, loss = 0.25051564\n",
      "Iteration 565, loss = 0.24949122\n",
      "Iteration 566, loss = 0.24847544\n",
      "Iteration 567, loss = 0.24746841\n",
      "Iteration 568, loss = 0.24647038\n",
      "Iteration 569, loss = 0.24548076\n",
      "Iteration 570, loss = 0.24449947\n",
      "Iteration 571, loss = 0.24352650\n",
      "Iteration 572, loss = 0.24256204\n",
      "Iteration 573, loss = 0.24160582\n",
      "Iteration 574, loss = 0.24065773\n",
      "Iteration 575, loss = 0.23971782\n",
      "Iteration 576, loss = 0.23878586\n",
      "Iteration 577, loss = 0.23786166\n",
      "Iteration 578, loss = 0.23694564\n",
      "Iteration 579, loss = 0.23603716\n",
      "Iteration 580, loss = 0.23513612\n",
      "Iteration 581, loss = 0.23424289\n",
      "Iteration 582, loss = 0.23335728\n",
      "Iteration 583, loss = 0.23247897\n",
      "Iteration 584, loss = 0.23160789\n",
      "Iteration 585, loss = 0.23074440\n",
      "Iteration 586, loss = 0.22988815\n",
      "Iteration 587, loss = 0.22903889\n",
      "Iteration 588, loss = 0.22819655\n",
      "Iteration 589, loss = 0.22736157\n",
      "Iteration 590, loss = 0.22653352\n",
      "Iteration 591, loss = 0.22571217\n",
      "Iteration 592, loss = 0.22489748\n",
      "Iteration 593, loss = 0.22408981\n",
      "Iteration 594, loss = 0.22328888\n",
      "Iteration 595, loss = 0.22249436\n",
      "Iteration 596, loss = 0.22170620\n",
      "Iteration 597, loss = 0.22092510\n",
      "Iteration 598, loss = 0.22015028\n",
      "Iteration 599, loss = 0.21938165\n",
      "Iteration 600, loss = 0.21861918\n",
      "Iteration 601, loss = 0.21786283\n",
      "Iteration 602, loss = 0.21711280\n",
      "Iteration 603, loss = 0.21636911\n",
      "Iteration 604, loss = 0.21563128\n",
      "Iteration 605, loss = 0.21489926\n",
      "Iteration 606, loss = 0.21417360\n",
      "Iteration 607, loss = 0.21345375\n",
      "Iteration 608, loss = 0.21273956\n",
      "Iteration 609, loss = 0.21203100\n",
      "Iteration 610, loss = 0.21132806\n",
      "Iteration 611, loss = 0.21063139\n",
      "Iteration 612, loss = 0.20994013\n",
      "Iteration 613, loss = 0.20925419\n",
      "Iteration 614, loss = 0.20857354\n",
      "Iteration 615, loss = 0.20789820\n",
      "Iteration 616, loss = 0.20722894\n",
      "Iteration 617, loss = 0.20656488\n",
      "Iteration 618, loss = 0.20590595\n",
      "Iteration 619, loss = 0.20525212\n",
      "Iteration 620, loss = 0.20460336\n",
      "Iteration 621, loss = 0.20395966\n",
      "Iteration 622, loss = 0.20332141\n",
      "Iteration 623, loss = 0.20268830\n",
      "Iteration 624, loss = 0.20205992\n",
      "Iteration 625, loss = 0.20143632\n",
      "Iteration 626, loss = 0.20081767\n",
      "Iteration 627, loss = 0.20020416\n",
      "Iteration 628, loss = 0.19959533\n",
      "Iteration 629, loss = 0.19899110\n",
      "Iteration 630, loss = 0.19839161\n",
      "Iteration 631, loss = 0.19779690\n",
      "Iteration 632, loss = 0.19720665\n",
      "Iteration 633, loss = 0.19662110\n",
      "Iteration 634, loss = 0.19604005\n",
      "Iteration 635, loss = 0.19546335\n",
      "Iteration 636, loss = 0.19489108\n",
      "Iteration 637, loss = 0.19432328\n",
      "Iteration 638, loss = 0.19375981\n",
      "Iteration 639, loss = 0.19320064\n",
      "Iteration 640, loss = 0.19264569\n",
      "Iteration 641, loss = 0.19209498\n",
      "Iteration 642, loss = 0.19154848\n",
      "Iteration 643, loss = 0.19100611\n",
      "Iteration 644, loss = 0.19046780\n",
      "Iteration 645, loss = 0.18993368\n",
      "Iteration 646, loss = 0.18940347\n",
      "Iteration 647, loss = 0.18887719\n",
      "Iteration 648, loss = 0.18835493\n",
      "Iteration 649, loss = 0.18783656\n",
      "Iteration 650, loss = 0.18732213\n",
      "Iteration 651, loss = 0.18681217\n",
      "Iteration 652, loss = 0.18630594\n",
      "Iteration 653, loss = 0.18580346\n",
      "Iteration 654, loss = 0.18530472\n",
      "Iteration 655, loss = 0.18480987\n",
      "Iteration 656, loss = 0.18431879\n",
      "Iteration 657, loss = 0.18383122\n",
      "Iteration 658, loss = 0.18334737\n",
      "Iteration 659, loss = 0.18286700\n",
      "Iteration 660, loss = 0.18239005\n",
      "Iteration 661, loss = 0.18191735\n",
      "Iteration 662, loss = 0.18144812\n",
      "Iteration 663, loss = 0.18098254\n",
      "Iteration 664, loss = 0.18052041\n",
      "Iteration 665, loss = 0.18006177\n",
      "Iteration 666, loss = 0.17960644\n",
      "Iteration 667, loss = 0.17915431\n"
     ]
    },
    {
     "name": "stdout",
     "output_type": "stream",
     "text": [
      "Iteration 668, loss = 0.17870565\n",
      "Iteration 669, loss = 0.17826021\n",
      "Iteration 670, loss = 0.17781784\n",
      "Iteration 671, loss = 0.17738427\n",
      "Iteration 672, loss = 0.17695256\n",
      "Iteration 673, loss = 0.17652053\n",
      "Iteration 674, loss = 0.17608920\n",
      "Iteration 675, loss = 0.17566680\n",
      "Iteration 676, loss = 0.17524695\n",
      "Iteration 677, loss = 0.17482786\n",
      "Iteration 678, loss = 0.17441016\n",
      "Iteration 679, loss = 0.17399536\n",
      "Iteration 680, loss = 0.17358515\n",
      "Iteration 681, loss = 0.17317856\n",
      "Iteration 682, loss = 0.17277502\n",
      "Iteration 683, loss = 0.17237383\n",
      "Iteration 684, loss = 0.17197674\n",
      "Iteration 685, loss = 0.17157731\n",
      "Iteration 686, loss = 0.17118385\n",
      "Iteration 687, loss = 0.17079429\n",
      "Iteration 688, loss = 0.17040746\n",
      "Iteration 689, loss = 0.17002283\n",
      "Iteration 690, loss = 0.16964015\n",
      "Iteration 691, loss = 0.16926257\n",
      "Iteration 692, loss = 0.16888563\n",
      "Iteration 693, loss = 0.16850939\n",
      "Iteration 694, loss = 0.16813802\n",
      "Iteration 695, loss = 0.16776865\n",
      "Iteration 696, loss = 0.16740176\n",
      "Iteration 697, loss = 0.16703807\n",
      "Iteration 698, loss = 0.16667873\n",
      "Iteration 699, loss = 0.16631814\n",
      "Iteration 700, loss = 0.16596158\n",
      "Iteration 701, loss = 0.16560744\n",
      "Iteration 702, loss = 0.16525595\n",
      "Iteration 703, loss = 0.16490649\n",
      "Iteration 704, loss = 0.16455901\n",
      "Iteration 705, loss = 0.16421555\n",
      "Iteration 706, loss = 0.16387230\n",
      "Iteration 707, loss = 0.16353356\n",
      "Iteration 708, loss = 0.16319708\n",
      "Iteration 709, loss = 0.16286202\n",
      "Iteration 710, loss = 0.16252913\n",
      "Iteration 711, loss = 0.16219839\n",
      "Iteration 712, loss = 0.16186989\n",
      "Iteration 713, loss = 0.16154352\n",
      "Iteration 714, loss = 0.16122197\n",
      "Iteration 715, loss = 0.16089743\n",
      "Iteration 716, loss = 0.16057886\n",
      "Iteration 717, loss = 0.16026282\n",
      "Iteration 718, loss = 0.15994848\n",
      "Iteration 719, loss = 0.15963531\n",
      "Iteration 720, loss = 0.15932361\n",
      "Iteration 721, loss = 0.15901376\n",
      "Iteration 722, loss = 0.15870601\n",
      "Iteration 723, loss = 0.15840058\n",
      "Iteration 724, loss = 0.15809771\n",
      "Iteration 725, loss = 0.15780072\n",
      "Iteration 726, loss = 0.15749933\n",
      "Iteration 727, loss = 0.15720062\n",
      "Iteration 728, loss = 0.15690690\n",
      "Iteration 729, loss = 0.15661503\n",
      "Iteration 730, loss = 0.15632433\n",
      "Iteration 731, loss = 0.15603451\n",
      "Iteration 732, loss = 0.15574582\n",
      "Iteration 733, loss = 0.15545875\n",
      "Iteration 734, loss = 0.15517425\n",
      "Iteration 735, loss = 0.15489268\n",
      "Iteration 736, loss = 0.15461161\n",
      "Iteration 737, loss = 0.15433262\n",
      "Iteration 738, loss = 0.15405514\n",
      "Iteration 739, loss = 0.15377992\n",
      "Iteration 740, loss = 0.15350728\n",
      "Iteration 741, loss = 0.15323540\n",
      "Iteration 742, loss = 0.15296584\n",
      "Iteration 743, loss = 0.15269735\n",
      "Iteration 744, loss = 0.15242998\n",
      "Iteration 745, loss = 0.15216554\n",
      "Iteration 746, loss = 0.15190068\n",
      "Iteration 747, loss = 0.15163872\n",
      "Iteration 748, loss = 0.15137834\n",
      "Iteration 749, loss = 0.15112009\n",
      "Iteration 750, loss = 0.15086348\n",
      "Iteration 751, loss = 0.15060826\n",
      "Iteration 752, loss = 0.15035428\n",
      "Iteration 753, loss = 0.15010156\n",
      "Iteration 754, loss = 0.14985054\n",
      "Iteration 755, loss = 0.14960084\n",
      "Iteration 756, loss = 0.14935243\n",
      "Iteration 757, loss = 0.14910929\n",
      "Iteration 758, loss = 0.14886358\n",
      "Iteration 759, loss = 0.14861949\n",
      "Iteration 760, loss = 0.14837879\n",
      "Iteration 761, loss = 0.14813897\n",
      "Iteration 762, loss = 0.14790001\n",
      "Iteration 763, loss = 0.14766211\n",
      "Iteration 764, loss = 0.14742552\n",
      "Iteration 765, loss = 0.14719063\n",
      "Iteration 766, loss = 0.14695746\n",
      "Iteration 767, loss = 0.14672697\n",
      "Iteration 768, loss = 0.14649489\n",
      "Iteration 769, loss = 0.14626664\n",
      "Iteration 770, loss = 0.14603952\n",
      "Iteration 771, loss = 0.14581333\n",
      "Iteration 772, loss = 0.14558805\n",
      "Iteration 773, loss = 0.14536712\n",
      "Iteration 774, loss = 0.14514361\n",
      "Iteration 775, loss = 0.14492222\n",
      "Iteration 776, loss = 0.14470337\n",
      "Iteration 777, loss = 0.14448554\n",
      "Iteration 778, loss = 0.14426878\n",
      "Iteration 779, loss = 0.14405310\n",
      "Iteration 780, loss = 0.14383854\n",
      "Iteration 781, loss = 0.14362513\n",
      "Iteration 782, loss = 0.14341280\n",
      "Iteration 783, loss = 0.14320151\n",
      "Iteration 784, loss = 0.14299123\n",
      "Iteration 785, loss = 0.14278310\n",
      "Iteration 786, loss = 0.14257457\n",
      "Iteration 787, loss = 0.14236912\n",
      "Iteration 788, loss = 0.14216451\n",
      "Iteration 789, loss = 0.14196046\n",
      "Iteration 790, loss = 0.14175783\n",
      "Iteration 791, loss = 0.14155576\n",
      "Iteration 792, loss = 0.14135513\n",
      "Iteration 793, loss = 0.14115534\n",
      "Iteration 794, loss = 0.14095797\n",
      "Iteration 795, loss = 0.14076011\n",
      "Iteration 796, loss = 0.14056446\n",
      "Iteration 797, loss = 0.14036969\n",
      "Iteration 798, loss = 0.14017581\n",
      "Iteration 799, loss = 0.13998283\n",
      "Iteration 800, loss = 0.13979079\n",
      "Iteration 801, loss = 0.13959980\n",
      "Iteration 802, loss = 0.13940981\n",
      "Iteration 803, loss = 0.13922406\n",
      "Iteration 804, loss = 0.13903503\n",
      "Iteration 805, loss = 0.13884849\n",
      "Iteration 806, loss = 0.13866397\n",
      "Iteration 807, loss = 0.13847980\n",
      "Iteration 808, loss = 0.13829605\n",
      "Iteration 809, loss = 0.13811343\n",
      "Iteration 810, loss = 0.13793193\n",
      "Iteration 811, loss = 0.13775143\n",
      "Iteration 812, loss = 0.13757180\n",
      "Iteration 813, loss = 0.13739290\n",
      "Iteration 814, loss = 0.13721469\n",
      "Iteration 815, loss = 0.13703721\n",
      "Iteration 816, loss = 0.13686298\n",
      "Iteration 817, loss = 0.13668585\n",
      "Iteration 818, loss = 0.13651267\n",
      "Iteration 819, loss = 0.13633993\n",
      "Iteration 820, loss = 0.13616739\n",
      "Iteration 821, loss = 0.13599715\n",
      "Iteration 822, loss = 0.13582498\n",
      "Iteration 823, loss = 0.13565539\n",
      "Iteration 824, loss = 0.13548686\n",
      "Iteration 825, loss = 0.13531971\n",
      "Iteration 826, loss = 0.13515332\n",
      "Iteration 827, loss = 0.13498758\n",
      "Iteration 828, loss = 0.13482251\n",
      "Iteration 829, loss = 0.13465821\n",
      "Iteration 830, loss = 0.13449460\n",
      "Iteration 831, loss = 0.13433176\n",
      "Iteration 832, loss = 0.13416974\n",
      "Iteration 833, loss = 0.13400840\n",
      "Iteration 834, loss = 0.13384788\n",
      "Iteration 835, loss = 0.13368882\n",
      "Iteration 836, loss = 0.13352976\n",
      "Iteration 837, loss = 0.13337226\n",
      "Iteration 838, loss = 0.13321534\n",
      "Iteration 839, loss = 0.13305885\n",
      "Iteration 840, loss = 0.13290290\n",
      "Iteration 841, loss = 0.13275031\n",
      "Iteration 842, loss = 0.13259445\n",
      "Iteration 843, loss = 0.13244157\n",
      "Iteration 844, loss = 0.13228941\n",
      "Iteration 845, loss = 0.13213777\n",
      "Iteration 846, loss = 0.13198675\n",
      "Iteration 847, loss = 0.13183873\n",
      "Iteration 848, loss = 0.13168760\n",
      "Iteration 849, loss = 0.13153960\n",
      "Iteration 850, loss = 0.13139203\n",
      "Iteration 851, loss = 0.13124494\n",
      "Iteration 852, loss = 0.13109843\n",
      "Iteration 853, loss = 0.13095268\n",
      "Iteration 854, loss = 0.13080939\n",
      "Iteration 855, loss = 0.13066372\n",
      "Iteration 856, loss = 0.13052063\n",
      "Iteration 857, loss = 0.13037816\n",
      "Iteration 858, loss = 0.13023607\n",
      "Iteration 859, loss = 0.13009446\n",
      "Iteration 860, loss = 0.12995354\n",
      "Iteration 861, loss = 0.12981324\n",
      "Iteration 862, loss = 0.12967435\n",
      "Iteration 863, loss = 0.12953458\n",
      "Iteration 864, loss = 0.12939603\n",
      "Iteration 865, loss = 0.12925815\n",
      "Iteration 866, loss = 0.12912065\n",
      "Iteration 867, loss = 0.12898349\n",
      "Iteration 868, loss = 0.12884696\n",
      "Iteration 869, loss = 0.12871103\n",
      "Iteration 870, loss = 0.12857830\n",
      "Iteration 871, loss = 0.12844153\n",
      "Iteration 872, loss = 0.12830801\n",
      "Iteration 873, loss = 0.12817490\n",
      "Iteration 874, loss = 0.12804178\n",
      "Iteration 875, loss = 0.12790905\n",
      "Iteration 876, loss = 0.12777687\n",
      "Iteration 877, loss = 0.12764569\n",
      "Iteration 878, loss = 0.12751470\n",
      "Iteration 879, loss = 0.12738488\n",
      "Iteration 880, loss = 0.12725542\n",
      "Iteration 881, loss = 0.12712618\n",
      "Iteration 882, loss = 0.12699728\n",
      "Iteration 883, loss = 0.12686903\n",
      "Iteration 884, loss = 0.12674134\n",
      "Iteration 885, loss = 0.12661420\n",
      "Iteration 886, loss = 0.12648754\n",
      "Iteration 887, loss = 0.12636341\n",
      "Iteration 888, loss = 0.12623626\n",
      "Iteration 889, loss = 0.12611201\n",
      "Iteration 890, loss = 0.12598814\n",
      "Iteration 891, loss = 0.12586448\n",
      "Iteration 892, loss = 0.12574104\n",
      "Iteration 893, loss = 0.12561801\n",
      "Iteration 894, loss = 0.12549563\n",
      "Iteration 895, loss = 0.12537443\n",
      "Iteration 896, loss = 0.12525380\n",
      "Iteration 897, loss = 0.12513356\n",
      "Iteration 898, loss = 0.12501383\n",
      "Iteration 899, loss = 0.12489457\n",
      "Iteration 900, loss = 0.12477577\n",
      "Iteration 901, loss = 0.12465746\n",
      "Iteration 902, loss = 0.12453964\n",
      "Iteration 903, loss = 0.12442184\n",
      "Iteration 904, loss = 0.12430430\n",
      "Iteration 905, loss = 0.12418659\n",
      "Iteration 906, loss = 0.12407022\n",
      "Iteration 907, loss = 0.12395413\n",
      "Iteration 908, loss = 0.12383803\n",
      "Iteration 909, loss = 0.12372190\n",
      "Iteration 910, loss = 0.12360598\n",
      "Iteration 911, loss = 0.12349054\n",
      "Iteration 912, loss = 0.12337909\n",
      "Iteration 913, loss = 0.12326289\n",
      "Iteration 914, loss = 0.12314926\n",
      "Iteration 915, loss = 0.12303713\n",
      "Iteration 916, loss = 0.12292519\n",
      "Iteration 917, loss = 0.12281323\n",
      "Iteration 918, loss = 0.12270157\n",
      "Iteration 919, loss = 0.12259030\n",
      "Iteration 920, loss = 0.12247950\n",
      "Iteration 921, loss = 0.12236916\n",
      "Iteration 922, loss = 0.12225919\n",
      "Iteration 923, loss = 0.12214969\n",
      "Iteration 924, loss = 0.12204056\n",
      "Iteration 925, loss = 0.12193179\n",
      "Iteration 926, loss = 0.12182356\n",
      "Iteration 927, loss = 0.12171599\n",
      "Iteration 928, loss = 0.12160896\n",
      "Iteration 929, loss = 0.12150285\n",
      "Iteration 930, loss = 0.12139692\n",
      "Iteration 931, loss = 0.12129182\n",
      "Iteration 932, loss = 0.12118692\n",
      "Iteration 933, loss = 0.12108228\n",
      "Iteration 934, loss = 0.12097997\n",
      "Iteration 935, loss = 0.12087502\n",
      "Iteration 936, loss = 0.12077228\n",
      "Iteration 937, loss = 0.12066995\n",
      "Iteration 938, loss = 0.12056795\n",
      "Iteration 939, loss = 0.12046628\n",
      "Iteration 940, loss = 0.12036496\n",
      "Iteration 941, loss = 0.12026399\n",
      "Iteration 942, loss = 0.12016336\n",
      "Iteration 943, loss = 0.12006309\n",
      "Iteration 944, loss = 0.11996440\n",
      "Iteration 945, loss = 0.11986471\n",
      "Iteration 946, loss = 0.11976650\n",
      "Iteration 947, loss = 0.11966838\n",
      "Iteration 948, loss = 0.11957031\n",
      "Iteration 949, loss = 0.11947247\n",
      "Iteration 950, loss = 0.11937505\n",
      "Iteration 951, loss = 0.11927821\n",
      "Iteration 952, loss = 0.11918428\n",
      "Iteration 953, loss = 0.11908606\n",
      "Iteration 954, loss = 0.11899088\n",
      "Training loss did not improve more than tol=0.000100 for 10 consecutive epochs. Stopping.\n",
      "Train Accuracy of neural networks is: 0.97\n",
      "Train precision_recall_fscore:\n",
      "(0.9828947368421054, 0.9666666666666667, 0.9745726495726497, None)\n",
      "________________________________________________________\n",
      "Test Accuracy of neural networks is: 1.0\n",
      "Test precision_recall_fscore:\n",
      "(1.0, 1.0, 1.0, None)\n",
      "CPU times: user 548 ms, sys: 72.3 ms, total: 620 ms\n",
      "Wall time: 579 ms\n"
     ]
    }
   ],
   "source": [
    "%%time\n",
    "\n",
    "\n",
    "clf_NN = MLPClassifier(solver='adam', activation='relu', alpha=1e-4, hidden_layer_sizes=(7,8,8), max_iter=3000, learning_rate='adaptive', verbose=True)\n",
    "\n",
    "\n",
    "clf_NN.fit(X_train, y_train)\n",
    "\n",
    "#Training Metrics\n",
    "y_pred_train = clf_NN.predict(X_train)\n",
    "\n",
    "Accu_DT = accuracy_score(y_train, y_pred_train)\n",
    "print('Train Accuracy of neural networks is: '+ str(round(Accu_DT,2)))\n",
    "print('Train precision_recall_fscore:' )\n",
    "print(precision_recall_fscore_support(y_train, y_pred_train, average='macro'))\n",
    "\n",
    "# Test Metrics\n",
    "y_pred = clf_NN.predict(X_test)\n",
    "print('________________________________________________________')\n",
    "Accu_DT = accuracy_score(y_test, y_pred)\n",
    "print('Test Accuracy of neural networks is: '+ str(round(Accu_DT,2)))\n",
    "print('Test precision_recall_fscore:' )\n",
    "print(precision_recall_fscore_support(y_test, y_pred, average='macro'))"
   ]
  },
  {
   "cell_type": "markdown",
   "metadata": {},
   "source": [
    "### 2 Mlrose Gradient Descent"
   ]
  },
  {
   "cell_type": "code",
   "execution_count": 126,
   "metadata": {},
   "outputs": [
    {
     "name": "stdout",
     "output_type": "stream",
     "text": [
      "Train Accuracy of neural networks is: 0.98\n",
      "Train precision_recall_fscore:\n",
      "(0.9751928288513655, 0.975, 0.974996093139553, None)\n",
      "________________________________________________________\n",
      "Test Accuracy of neural networks is: 1.0\n",
      "Test precision_recall_fscore:\n",
      "(1.0, 1.0, 1.0, None)\n",
      "CPU times: user 3.28 s, sys: 20.8 ms, total: 3.3 s\n",
      "Wall time: 3.32 s\n"
     ]
    }
   ],
   "source": [
    "%%time\n",
    "\n",
    "nn_model_gd = mlrose.NeuralNetwork(hidden_nodes = [7,8,8], activation = 'relu', \\\n",
    "                                 algorithm = 'gradient_descent', max_iters = 2000, \\\n",
    "                                 bias = True, is_classifier = True, learning_rate = 1e-4, \\\n",
    "                                 early_stopping = False, clip_max = 10, max_attempts = 100, \\\n",
    "                                 random_state = 3,curve=True)\n",
    "\n",
    "\n",
    "nn_model_gd.fit(X_train, y_train)\n",
    "\n",
    "y_pred_train_nn = nn_model_gd.predict(X_train)\n",
    "\n",
    "Accu_DT = accuracy_score(y_train, y_pred_train_nn)\n",
    "print('Train Accuracy of neural networks is: '+ str(round(Accu_DT,2)))\n",
    "print('Train precision_recall_fscore:' )\n",
    "print(precision_recall_fscore_support(y_train, y_pred_train_nn, average='macro'))\n",
    "\n",
    "# Test Metrics\n",
    "\n",
    "y_pred_nn = nn_model_gd.predict(X_test)\n",
    "print('________________________________________________________')\n",
    "Accu_DT = accuracy_score(y_test, y_pred_nn)\n",
    "print('Test Accuracy of neural networks is: '+ str(round(Accu_DT,2)))\n",
    "print('Test precision_recall_fscore:' )\n",
    "print(precision_recall_fscore_support(y_test, y_pred_nn, average='macro'))\n"
   ]
  },
  {
   "cell_type": "code",
   "execution_count": 143,
   "metadata": {},
   "outputs": [
    {
     "name": "stderr",
     "output_type": "stream",
     "text": [
      "No handles with labels found to put in legend.\n"
     ]
    },
    {
     "data": {
      "image/png": "[encoded data removed]",
      "text/plain": [
       "<Figure size 432x288 with 1 Axes>"
      ]
     },
     "metadata": {
      "needs_background": "light"
     },
     "output_type": "display_data"
    },
    {
     "data": {
      "text/plain": [
       "<Figure size 432x288 with 0 Axes>"
      ]
     },
     "metadata": {},
     "output_type": "display_data"
    }
   ],
   "source": [
    "\n",
    "plt.plot(nn_model_gd.fitness_curve*(-1.0))\n",
    "plt.xlabel('No. of Iterations')\n",
    "plt.ylabel('Loss')\n",
    "\n",
    "plt.legend()\n",
    "plt.show()\n",
    "plt.savefig('nn_model_gd.png')"
   ]
  },
  {
   "cell_type": "markdown",
   "metadata": {},
   "source": [
    "### 3 Random Hill Climb "
   ]
  },
  {
   "cell_type": "code",
   "execution_count": 153,
   "metadata": {},
   "outputs": [
    {
     "name": "stdout",
     "output_type": "stream",
     "text": [
      "Train Accuracy of neural networks is: 0.83\n",
      "Train precision_recall_fscore:\n",
      "(0.8888888888888888, 0.8333333333333334, 0.8222222222222223, None)\n",
      "________________________________________________________\n",
      "Test Accuracy of neural networks is: 0.87\n",
      "Test precision_recall_fscore:\n",
      "(0.9047619047619048, 0.8666666666666667, 0.861111111111111, None)\n",
      "CPU times: user 35.3 s, sys: 111 ms, total: 35.4 s\n",
      "Wall time: 35.5 s\n"
     ]
    }
   ],
   "source": [
    "%%time\n",
    "\n",
    "\n",
    "nn_model_rhc = mlrose.NeuralNetwork(hidden_nodes = [7,8,8], activation = 'relu', \\\n",
    "                                 algorithm = 'random_hill_climb', max_iters = 2000, \\\n",
    "                                 bias = True, is_classifier = True, learning_rate = 1e-4, \\\n",
    "                                 early_stopping = False, clip_max = 0.01, max_attempts = 1000, \\\n",
    "                                 random_state = 3,restarts=20,curve=True)  #clip_max is the most important parameter\n",
    "\n",
    "nn_model_rhc.fit(X_train, y_train)\n",
    "\n",
    "#Training Metrics\n",
    "y_pred_train_nn = nn_model_rhc.predict(X_train)\n",
    "\n",
    "\n",
    "Accu_DT = accuracy_score(y_train, y_pred_train_nn)\n",
    "print('Train Accuracy of neural networks is: '+ str(round(Accu_DT,2)))\n",
    "# print('Train Confusion Matrix:' )\n",
    "# print(confusion_matrix(y_train, y_pred_train_nn))\n",
    "print('Train precision_recall_fscore:' )\n",
    "print(precision_recall_fscore_support(y_train, y_pred_train_nn, average='macro'))\n",
    "\n",
    "# Test Metrics\n",
    "y_pred_nn = nn_model_rhc.predict(X_test)\n",
    "\n",
    "print('________________________________________________________')\n",
    "Accu_DT = accuracy_score(y_test, y_pred_nn)\n",
    "print('Test Accuracy of neural networks is: '+ str(round(Accu_DT,2)))\n",
    "# print('Test Confusion Matrix:' )\n",
    "# print(confusion_matrix(y_test, y_pred_nn))\n",
    "print('Test precision_recall_fscore:' )\n",
    "metric_rhc=precision_recall_fscore_support(y_test, y_pred_nn, average='macro')\n",
    "print(metric_rhc)"
   ]
  },
  {
   "cell_type": "code",
   "execution_count": 154,
   "metadata": {},
   "outputs": [
    {
     "data": {
      "text/plain": [
       "array([-1.07381173, -1.07381173, -1.07381173, ..., -0.50831877,\n",
       "       -0.50831877, -0.50831877])"
      ]
     },
     "execution_count": 154,
     "metadata": {},
     "output_type": "execute_result"
    }
   ],
   "source": [
    "nn_model_rhc.fitness_curve"
   ]
  },
  {
   "cell_type": "code",
   "execution_count": 155,
   "metadata": {},
   "outputs": [
    {
     "name": "stderr",
     "output_type": "stream",
     "text": [
      "No handles with labels found to put in legend.\n"
     ]
    },
    {
     "data": {
      "image/png": "[encoded data removed]",
      "text/plain": [
       "<Figure size 432x288 with 1 Axes>"
      ]
     },
     "metadata": {
      "needs_background": "light"
     },
     "output_type": "display_data"
    },
    {
     "data": {
      "text/plain": [
       "<Figure size 432x288 with 0 Axes>"
      ]
     },
     "metadata": {},
     "output_type": "display_data"
    }
   ],
   "source": [
    "plt.plot(nn_model_rhc.fitness_curve*(-1.0))\n",
    "plt.xlabel('No. of Iterations')\n",
    "plt.ylabel('Loss')\n",
    "\n",
    "plt.legend()\n",
    "plt.show()\n",
    "plt.savefig('nn_model_rhc.png')"
   ]
  },
  {
   "cell_type": "code",
   "execution_count": 156,
   "metadata": {
    "scrolled": true
   },
   "outputs": [
    {
     "name": "stdout",
     "output_type": "stream",
     "text": [
      "2000\n"
     ]
    }
   ],
   "source": [
    "print(len(nn_model_rhc.fitness_curve))"
   ]
  },
  {
   "cell_type": "code",
   "execution_count": 160,
   "metadata": {},
   "outputs": [
    {
     "name": "stdout",
     "output_type": "stream",
     "text": [
      "Train Accuracy of neural networks is: 0.92\n",
      "Train precision_recall_fscore:\n",
      "(0.9270833333333334, 0.9166666666666666, 0.9158249158249158, None)\n",
      "________________________________________________________\n",
      "Test Accuracy of neural networks is: 0.93\n",
      "Test precision_recall_fscore:\n",
      "(0.9444444444444445, 0.9333333333333332, 0.9326599326599326, None)\n",
      "CPU times: user 35.4 s, sys: 122 ms, total: 35.5 s\n",
      "Wall time: 35.7 s\n"
     ]
    }
   ],
   "source": [
    "%%time\n",
    "\n",
    "\n",
    "nn_model_rhc = mlrose.NeuralNetwork(hidden_nodes = [7,8,8], activation = 'relu', \\\n",
    "                                 algorithm = 'random_hill_climb', max_iters = 2000, \\\n",
    "                                 bias = True, is_classifier = True, learning_rate = 1e-4, \\\n",
    "                                 early_stopping = False, clip_max = 0.001, max_attempts = 1000, \\\n",
    "                                 random_state = 3,restarts=20,curve=True)  #clip_max is the most important parameter\n",
    "\n",
    "nn_model_rhc.fit(X_train, y_train)\n",
    "\n",
    "#Training Metrics\n",
    "y_pred_train_nn = nn_model_rhc.predict(X_train)\n",
    "\n",
    "\n",
    "Accu_DT = accuracy_score(y_train, y_pred_train_nn)\n",
    "print('Train Accuracy of neural networks is: '+ str(round(Accu_DT,2)))\n",
    "# print('Train Confusion Matrix:' )\n",
    "# print(confusion_matrix(y_train, y_pred_train_nn))\n",
    "print('Train precision_recall_fscore:' )\n",
    "print(precision_recall_fscore_support(y_train, y_pred_train_nn, average='macro'))\n",
    "\n",
    "# Test Metrics\n",
    "y_pred_nn = nn_model_rhc.predict(X_test)\n",
    "\n",
    "print('________________________________________________________')\n",
    "Accu_DT = accuracy_score(y_test, y_pred_nn)\n",
    "print('Test Accuracy of neural networks is: '+ str(round(Accu_DT,2)))\n",
    "# print('Test Confusion Matrix:' )\n",
    "# print(confusion_matrix(y_test, y_pred_nn))\n",
    "print('Test precision_recall_fscore:' )\n",
    "metric_rhc=precision_recall_fscore_support(y_test, y_pred_nn, average='macro')\n",
    "print(metric_rhc)"
   ]
  },
  {
   "cell_type": "code",
   "execution_count": 161,
   "metadata": {},
   "outputs": [
    {
     "name": "stderr",
     "output_type": "stream",
     "text": [
      "No handles with labels found to put in legend.\n"
     ]
    },
    {
     "data": {
      "image/png": "[encoded data removed]",
      "text/plain": [
       "<Figure size 432x288 with 1 Axes>"
      ]
     },
     "metadata": {
      "needs_background": "light"
     },
     "output_type": "display_data"
    },
    {
     "data": {
      "text/plain": [
       "<Figure size 432x288 with 0 Axes>"
      ]
     },
     "metadata": {},
     "output_type": "display_data"
    }
   ],
   "source": [
    "plt.plot(nn_model_rhc.fitness_curve*(-1.0))\n",
    "plt.xlabel('No. of Iterations')\n",
    "plt.ylabel('Loss')\n",
    "\n",
    "plt.legend()\n",
    "plt.show()\n",
    "plt.savefig('nn_model_rhc.png')"
   ]
  },
  {
   "cell_type": "code",
   "execution_count": 162,
   "metadata": {},
   "outputs": [
    {
     "name": "stdout",
     "output_type": "stream",
     "text": [
      "Train Accuracy of neural networks is: 0.91\n",
      "Train precision_recall_fscore:\n",
      "(0.9281045751633986, 0.9083333333333333, 0.9065668630886022, None)\n",
      "________________________________________________________\n",
      "Test Accuracy of neural networks is: 0.77\n",
      "Test precision_recall_fscore:\n",
      "(0.8627450980392157, 0.7666666666666666, 0.7340930674264007, None)\n",
      "CPU times: user 33.4 s, sys: 78.6 ms, total: 33.5 s\n",
      "Wall time: 33.6 s\n"
     ]
    }
   ],
   "source": [
    "%%time\n",
    "\n",
    "\n",
    "nn_model_rhc = mlrose.NeuralNetwork(hidden_nodes = [7,8,8], activation = 'relu', \\\n",
    "                                 algorithm = 'random_hill_climb', max_iters = 2000, \\\n",
    "                                 bias = True, is_classifier = True, learning_rate = 1e-4, \\\n",
    "                                 early_stopping = False, clip_max = 0.0001, max_attempts = 1000, \\\n",
    "                                 random_state = 3,restarts=20,curve=True)  #clip_max is the most important parameter\n",
    "\n",
    "nn_model_rhc.fit(X_train, y_train)\n",
    "\n",
    "#Training Metrics\n",
    "y_pred_train_nn = nn_model_rhc.predict(X_train)\n",
    "\n",
    "\n",
    "Accu_DT = accuracy_score(y_train, y_pred_train_nn)\n",
    "print('Train Accuracy of neural networks is: '+ str(round(Accu_DT,2)))\n",
    "# print('Train Confusion Matrix:' )\n",
    "# print(confusion_matrix(y_train, y_pred_train_nn))\n",
    "print('Train precision_recall_fscore:' )\n",
    "print(precision_recall_fscore_support(y_train, y_pred_train_nn, average='macro'))\n",
    "\n",
    "# Test Metrics\n",
    "y_pred_nn = nn_model_rhc.predict(X_test)\n",
    "\n",
    "print('________________________________________________________')\n",
    "Accu_DT = accuracy_score(y_test, y_pred_nn)\n",
    "print('Test Accuracy of neural networks is: '+ str(round(Accu_DT,2)))\n",
    "# print('Test Confusion Matrix:' )\n",
    "# print(confusion_matrix(y_test, y_pred_nn))\n",
    "print('Test precision_recall_fscore:' )\n",
    "metric_rhc=precision_recall_fscore_support(y_test, y_pred_nn, average='macro')\n",
    "print(metric_rhc)"
   ]
  },
  {
   "cell_type": "code",
   "execution_count": 163,
   "metadata": {},
   "outputs": [
    {
     "name": "stderr",
     "output_type": "stream",
     "text": [
      "No handles with labels found to put in legend.\n"
     ]
    },
    {
     "data": {
      "image/png": "[encoded data removed]",
      "text/plain": [
       "<Figure size 432x288 with 1 Axes>"
      ]
     },
     "metadata": {
      "needs_background": "light"
     },
     "output_type": "display_data"
    },
    {
     "data": {
      "text/plain": [
       "<Figure size 432x288 with 0 Axes>"
      ]
     },
     "metadata": {},
     "output_type": "display_data"
    }
   ],
   "source": [
    "plt.plot(nn_model_rhc.fitness_curve*(-1.0))\n",
    "plt.xlabel('No. of Iterations')\n",
    "plt.ylabel('Loss')\n",
    "\n",
    "plt.legend()\n",
    "plt.show()\n",
    "plt.savefig('nn_model_rhc.png')"
   ]
  },
  {
   "cell_type": "code",
   "execution_count": 164,
   "metadata": {},
   "outputs": [
    {
     "name": "stdout",
     "output_type": "stream",
     "text": [
      "Train Accuracy of neural networks is: 0.9\n",
      "Train precision_recall_fscore:\n",
      "(0.923076923076923, 0.9, 0.8976982097186701, None)\n",
      "________________________________________________________\n",
      "Test Accuracy of neural networks is: 0.77\n",
      "Test precision_recall_fscore:\n",
      "(0.8627450980392157, 0.7666666666666666, 0.7340930674264007, None)\n",
      "CPU times: user 35.8 s, sys: 92.9 ms, total: 35.9 s\n",
      "Wall time: 36 s\n"
     ]
    }
   ],
   "source": [
    "%%time\n",
    "\n",
    "\n",
    "nn_model_rhc = mlrose.NeuralNetwork(hidden_nodes = [7,8,8], activation = 'relu', \\\n",
    "                                 algorithm = 'random_hill_climb', max_iters = 2000, \\\n",
    "                                 bias = True, is_classifier = True, learning_rate = 1e-4, \\\n",
    "                                 early_stopping = False, clip_max = 0.1, max_attempts = 1000, \\\n",
    "                                 random_state = 3,restarts=20,curve=True)  #clip_max is the most important parameter\n",
    "\n",
    "nn_model_rhc.fit(X_train, y_train)\n",
    "\n",
    "#Training Metrics\n",
    "y_pred_train_nn = nn_model_rhc.predict(X_train)\n",
    "\n",
    "\n",
    "Accu_DT = accuracy_score(y_train, y_pred_train_nn)\n",
    "print('Train Accuracy of neural networks is: '+ str(round(Accu_DT,2)))\n",
    "# print('Train Confusion Matrix:' )\n",
    "# print(confusion_matrix(y_train, y_pred_train_nn))\n",
    "print('Train precision_recall_fscore:' )\n",
    "print(precision_recall_fscore_support(y_train, y_pred_train_nn, average='macro'))\n",
    "\n",
    "# Test Metrics\n",
    "y_pred_nn = nn_model_rhc.predict(X_test)\n",
    "\n",
    "print('________________________________________________________')\n",
    "Accu_DT = accuracy_score(y_test, y_pred_nn)\n",
    "print('Test Accuracy of neural networks is: '+ str(round(Accu_DT,2)))\n",
    "# print('Test Confusion Matrix:' )\n",
    "# print(confusion_matrix(y_test, y_pred_nn))\n",
    "print('Test precision_recall_fscore:' )\n",
    "metric_rhc=precision_recall_fscore_support(y_test, y_pred_nn, average='macro')\n",
    "print(metric_rhc)"
   ]
  },
  {
   "cell_type": "code",
   "execution_count": 165,
   "metadata": {},
   "outputs": [
    {
     "name": "stderr",
     "output_type": "stream",
     "text": [
      "No handles with labels found to put in legend.\n"
     ]
    },
    {
     "data": {
      "image/png": "[encoded data removed]",
      "text/plain": [
       "<Figure size 432x288 with 1 Axes>"
      ]
     },
     "metadata": {
      "needs_background": "light"
     },
     "output_type": "display_data"
    },
    {
     "data": {
      "text/plain": [
       "<Figure size 432x288 with 0 Axes>"
      ]
     },
     "metadata": {},
     "output_type": "display_data"
    }
   ],
   "source": [
    "plt.plot(nn_model_rhc.fitness_curve*(-1.0))\n",
    "plt.xlabel('No. of Iterations')\n",
    "plt.ylabel('Loss')\n",
    "\n",
    "plt.legend()\n",
    "plt.show()\n",
    "plt.savefig('nn_model_rhc.png')"
   ]
  },
  {
   "cell_type": "code",
   "execution_count": 173,
   "metadata": {},
   "outputs": [
    {
     "data": {
      "image/png": "[encoded data removed]",
      "text/plain": [
       "<Figure size 432x288 with 1 Axes>"
      ]
     },
     "metadata": {
      "needs_background": "light"
     },
     "output_type": "display_data"
    }
   ],
   "source": [
    "rhc_clip_max=['0.0001', '0.001', '0.01', '0.1']\n",
    "rhc_f1=[0.73,0.93,0.86,0.73]\n",
    "fig, ax = plt.subplots()\n",
    "\n",
    "ax.bar(rhc_clip_max, rhc_f1)\n",
    "# ax.legend(loc=0); # upper left corner\n",
    "# ax.set_xlim(0,5000)\n",
    "ax.set_ylim(0, 1)\n",
    "ax.grid(color='k', alpha=0.3, linestyle='dashed', linewidth=0.4)\n",
    "ax.set_xlabel('clip_max')\n",
    "ax.set_ylabel('f1 score')\n",
    "plt.savefig('rhc_nn_clip_max.png')"
   ]
  },
  {
   "cell_type": "markdown",
   "metadata": {},
   "source": [
    "### 4 Simulated Annealing"
   ]
  },
  {
   "cell_type": "code",
   "execution_count": 135,
   "metadata": {},
   "outputs": [
    {
     "name": "stdout",
     "output_type": "stream",
     "text": [
      "Train Accuracy of neural networks is: 0.71\n",
      "Train precision_recall_fscore:\n",
      "(0.8444444444444444, 0.7083333333333334, 0.6479545037607778, None)\n",
      "________________________________________________________\n",
      "Test Accuracy of neural networks is: 0.8\n",
      "Test precision_recall_fscore:\n",
      "(0.875, 0.7999999999999999, 0.7802197802197802, None)\n",
      "CPU times: user 2.59 s, sys: 15.3 ms, total: 2.61 s\n",
      "Wall time: 2.61 s\n"
     ]
    }
   ],
   "source": [
    "%%time\n",
    "\n",
    "schedule = mlrose.ExpDecay(init_temp=1e9, exp_const=0.75, min_temp=0.00001) #most important parameter is min_temp\n",
    "# schedule = mlrose.GeomDecay(init_temp=1e9, decay=0.99, min_temp=0.00001)\n",
    "# schedule = mlrose.ArithDecay(init_temp=1e9, decay=0.0001, min_temp=0.00001)\n",
    "\n",
    "nn_model_sa = mlrose.NeuralNetwork(hidden_nodes = [7,8,8], activation = 'relu', \\\n",
    "                                 algorithm = 'simulated_annealing', max_iters = 2000, \\\n",
    "                                 bias = True, is_classifier = True, learning_rate = 1e-4, \\\n",
    "                                 early_stopping = True, clip_max = 0.01, max_attempts = 1000, \\\n",
    "                                 random_state = 3, schedule=schedule, curve=True)\n",
    "\n",
    "nn_model_sa.fit(X_train, y_train)\n",
    "\n",
    "#Training Metrics\n",
    "y_pred_train_nn = nn_model_sa.predict(X_train)\n",
    "\n",
    "Accu_DT = accuracy_score(y_train, y_pred_train_nn)\n",
    "print('Train Accuracy of neural networks is: '+ str(round(Accu_DT,2)))\n",
    "print('Train precision_recall_fscore:' )\n",
    "print(precision_recall_fscore_support(y_train, y_pred_train_nn, average='macro'))\n",
    "\n",
    "# Test Metrics\n",
    "y_pred_nn = nn_model_sa.predict((X_test))\n",
    "print('________________________________________________________')\n",
    "Accu_DT = accuracy_score(y_test, y_pred_nn)\n",
    "print('Test Accuracy of neural networks is: '+ str(round(Accu_DT,2)))\n",
    "print('Test precision_recall_fscore:' )\n",
    "print(precision_recall_fscore_support(y_test, y_pred_nn, average='macro'))"
   ]
  },
  {
   "cell_type": "code",
   "execution_count": 141,
   "metadata": {},
   "outputs": [
    {
     "name": "stderr",
     "output_type": "stream",
     "text": [
      "No handles with labels found to put in legend.\n"
     ]
    },
    {
     "data": {
      "image/png": "[encoded data removed]",
      "text/plain": [
       "<Figure size 432x288 with 1 Axes>"
      ]
     },
     "metadata": {
      "needs_background": "light"
     },
     "output_type": "display_data"
    },
    {
     "data": {
      "text/plain": [
       "<Figure size 432x288 with 0 Axes>"
      ]
     },
     "metadata": {},
     "output_type": "display_data"
    }
   ],
   "source": [
    "plt.plot(nn_model_sa.fitness_curve*(-1.0))\n",
    "plt.xlabel('No. of Iterations')\n",
    "plt.ylabel('Loss')\n",
    "\n",
    "plt.legend()\n",
    "plt.show()\n",
    "plt.savefig('nn_model_sa.png')"
   ]
  },
  {
   "cell_type": "code",
   "execution_count": 137,
   "metadata": {},
   "outputs": [
    {
     "name": "stdout",
     "output_type": "stream",
     "text": [
      "2000\n"
     ]
    }
   ],
   "source": [
    "print(len(nn_model_sa.fitness_curve))"
   ]
  },
  {
   "cell_type": "code",
   "execution_count": 180,
   "metadata": {},
   "outputs": [
    {
     "name": "stdout",
     "output_type": "stream",
     "text": [
      "Train Accuracy of neural networks is: 0.21\n",
      "Train precision_recall_fscore:\n",
      "(0.1368421052631579, 0.20833333333333334, 0.15004748338081672, None)\n",
      "________________________________________________________\n",
      "Test Accuracy of neural networks is: 0.17\n",
      "Test precision_recall_fscore:\n",
      "(0.12169312169312169, 0.16666666666666666, 0.1346915676287493, None)\n",
      "CPU times: user 3.02 s, sys: 16.4 ms, total: 3.04 s\n",
      "Wall time: 3.06 s\n"
     ]
    }
   ],
   "source": [
    "%%time\n",
    "\n",
    "schedule = mlrose.ExpDecay(init_temp=1e9, exp_const=0.15, min_temp=0.00001) #most important parameter is min_temp\n",
    "# schedule = mlrose.GeomDecay(init_temp=1e9, decay=0.99, min_temp=0.00001)\n",
    "# schedule = mlrose.ArithDecay(init_temp=1e9, decay=0.0001, min_temp=0.00001)\n",
    "\n",
    "nn_model_sa = mlrose.NeuralNetwork(hidden_nodes = [7,8,8], activation = 'relu', \\\n",
    "                                 algorithm = 'simulated_annealing', max_iters = 2000, \\\n",
    "                                 bias = True, is_classifier = True, learning_rate = 1e-4, \\\n",
    "                                 early_stopping = True, clip_max = 0.01, max_attempts = 1000, \\\n",
    "                                 random_state = 3, schedule=schedule, curve=True)\n",
    "\n",
    "nn_model_sa.fit(X_train, y_train)\n",
    "\n",
    "#Training Metrics\n",
    "y_pred_train_nn = nn_model_sa.predict(X_train)\n",
    "\n",
    "Accu_DT = accuracy_score(y_train, y_pred_train_nn)\n",
    "print('Train Accuracy of neural networks is: '+ str(round(Accu_DT,2)))\n",
    "print('Train precision_recall_fscore:' )\n",
    "print(precision_recall_fscore_support(y_train, y_pred_train_nn, average='macro'))\n",
    "\n",
    "# Test Metrics\n",
    "y_pred_nn = nn_model_sa.predict((X_test))\n",
    "print('________________________________________________________')\n",
    "Accu_DT = accuracy_score(y_test, y_pred_nn)\n",
    "print('Test Accuracy of neural networks is: '+ str(round(Accu_DT,2)))\n",
    "print('Test precision_recall_fscore:' )\n",
    "print(precision_recall_fscore_support(y_test, y_pred_nn, average='macro'))"
   ]
  },
  {
   "cell_type": "code",
   "execution_count": 181,
   "metadata": {},
   "outputs": [
    {
     "name": "stderr",
     "output_type": "stream",
     "text": [
      "No handles with labels found to put in legend.\n"
     ]
    },
    {
     "data": {
      "image/png": "[encoded data removed]",
      "text/plain": [
       "<Figure size 432x288 with 1 Axes>"
      ]
     },
     "metadata": {
      "needs_background": "light"
     },
     "output_type": "display_data"
    },
    {
     "data": {
      "text/plain": [
       "<Figure size 432x288 with 0 Axes>"
      ]
     },
     "metadata": {},
     "output_type": "display_data"
    }
   ],
   "source": [
    "plt.plot(nn_model_sa.fitness_curve*(-1.0))\n",
    "plt.xlabel('No. of Iterations')\n",
    "plt.ylabel('Loss')\n",
    "\n",
    "plt.legend()\n",
    "plt.show()\n",
    "plt.savefig('nn_model_sa.png')"
   ]
  },
  {
   "cell_type": "code",
   "execution_count": 182,
   "metadata": {},
   "outputs": [
    {
     "name": "stdout",
     "output_type": "stream",
     "text": [
      "Train Accuracy of neural networks is: 0.33\n",
      "Train precision_recall_fscore:\n",
      "(0.1111111111111111, 0.3333333333333333, 0.16666666666666666, None)\n",
      "________________________________________________________\n",
      "Test Accuracy of neural networks is: 0.33\n",
      "Test precision_recall_fscore:\n",
      "(0.1149425287356322, 0.3333333333333333, 0.17094017094017097, None)\n",
      "CPU times: user 2.66 s, sys: 14 ms, total: 2.67 s\n",
      "Wall time: 2.69 s\n"
     ]
    }
   ],
   "source": [
    "%%time\n",
    "\n",
    "schedule = mlrose.ExpDecay(init_temp=1e9, exp_const=0.35, min_temp=0.00001) #most important parameter is min_temp\n",
    "# schedule = mlrose.GeomDecay(init_temp=1e9, decay=0.99, min_temp=0.00001)\n",
    "# schedule = mlrose.ArithDecay(init_temp=1e9, decay=0.0001, min_temp=0.00001)\n",
    "\n",
    "nn_model_sa = mlrose.NeuralNetwork(hidden_nodes = [7,8,8], activation = 'relu', \\\n",
    "                                 algorithm = 'simulated_annealing', max_iters = 2000, \\\n",
    "                                 bias = True, is_classifier = True, learning_rate = 1e-4, \\\n",
    "                                 early_stopping = True, clip_max = 0.01, max_attempts = 1000, \\\n",
    "                                 random_state = 3, schedule=schedule, curve=True)\n",
    "\n",
    "nn_model_sa.fit(X_train, y_train)\n",
    "\n",
    "#Training Metrics\n",
    "y_pred_train_nn = nn_model_sa.predict(X_train)\n",
    "\n",
    "Accu_DT = accuracy_score(y_train, y_pred_train_nn)\n",
    "print('Train Accuracy of neural networks is: '+ str(round(Accu_DT,2)))\n",
    "print('Train precision_recall_fscore:' )\n",
    "print(precision_recall_fscore_support(y_train, y_pred_train_nn, average='macro'))\n",
    "\n",
    "# Test Metrics\n",
    "y_pred_nn = nn_model_sa.predict((X_test))\n",
    "print('________________________________________________________')\n",
    "Accu_DT = accuracy_score(y_test, y_pred_nn)\n",
    "print('Test Accuracy of neural networks is: '+ str(round(Accu_DT,2)))\n",
    "print('Test precision_recall_fscore:' )\n",
    "print(precision_recall_fscore_support(y_test, y_pred_nn, average='macro'))"
   ]
  },
  {
   "cell_type": "code",
   "execution_count": 183,
   "metadata": {},
   "outputs": [
    {
     "name": "stderr",
     "output_type": "stream",
     "text": [
      "No handles with labels found to put in legend.\n"
     ]
    },
    {
     "data": {
      "image/png": "[encoded data removed]",
      "text/plain": [
       "<Figure size 432x288 with 1 Axes>"
      ]
     },
     "metadata": {
      "needs_background": "light"
     },
     "output_type": "display_data"
    },
    {
     "data": {
      "text/plain": [
       "<Figure size 432x288 with 0 Axes>"
      ]
     },
     "metadata": {},
     "output_type": "display_data"
    }
   ],
   "source": [
    "plt.plot(nn_model_sa.fitness_curve*(-1.0))\n",
    "plt.xlabel('No. of Iterations')\n",
    "plt.ylabel('Loss')\n",
    "\n",
    "plt.legend()\n",
    "plt.show()\n",
    "plt.savefig('nn_model_sa.png')"
   ]
  },
  {
   "cell_type": "code",
   "execution_count": 184,
   "metadata": {},
   "outputs": [
    {
     "name": "stdout",
     "output_type": "stream",
     "text": [
      "Train Accuracy of neural networks is: 0.66\n",
      "Train precision_recall_fscore:\n",
      "(0.49794238683127573, 0.6583333333333333, 0.5494995989817624, None)\n",
      "________________________________________________________\n",
      "Test Accuracy of neural networks is: 0.73\n",
      "Test precision_recall_fscore:\n",
      "(0.8518518518518517, 0.7333333333333334, 0.6825396825396827, None)\n",
      "CPU times: user 2.53 s, sys: 7.38 ms, total: 2.53 s\n",
      "Wall time: 2.57 s\n"
     ]
    }
   ],
   "source": [
    "%%time\n",
    "\n",
    "schedule = mlrose.ExpDecay(init_temp=1e9, exp_const=0.55, min_temp=0.00001) #most important parameter is min_temp\n",
    "# schedule = mlrose.GeomDecay(init_temp=1e9, decay=0.99, min_temp=0.00001)\n",
    "# schedule = mlrose.ArithDecay(init_temp=1e9, decay=0.0001, min_temp=0.00001)\n",
    "\n",
    "nn_model_sa = mlrose.NeuralNetwork(hidden_nodes = [7,8,8], activation = 'relu', \\\n",
    "                                 algorithm = 'simulated_annealing', max_iters = 2000, \\\n",
    "                                 bias = True, is_classifier = True, learning_rate = 1e-4, \\\n",
    "                                 early_stopping = True, clip_max = 0.01, max_attempts = 1000, \\\n",
    "                                 random_state = 3, schedule=schedule, curve=True)\n",
    "\n",
    "nn_model_sa.fit(X_train, y_train)\n",
    "\n",
    "#Training Metrics\n",
    "y_pred_train_nn = nn_model_sa.predict(X_train)\n",
    "\n",
    "Accu_DT = accuracy_score(y_train, y_pred_train_nn)\n",
    "print('Train Accuracy of neural networks is: '+ str(round(Accu_DT,2)))\n",
    "print('Train precision_recall_fscore:' )\n",
    "print(precision_recall_fscore_support(y_train, y_pred_train_nn, average='macro'))\n",
    "\n",
    "# Test Metrics\n",
    "y_pred_nn = nn_model_sa.predict((X_test))\n",
    "print('________________________________________________________')\n",
    "Accu_DT = accuracy_score(y_test, y_pred_nn)\n",
    "print('Test Accuracy of neural networks is: '+ str(round(Accu_DT,2)))\n",
    "print('Test precision_recall_fscore:' )\n",
    "print(precision_recall_fscore_support(y_test, y_pred_nn, average='macro'))"
   ]
  },
  {
   "cell_type": "code",
   "execution_count": 185,
   "metadata": {},
   "outputs": [
    {
     "name": "stderr",
     "output_type": "stream",
     "text": [
      "No handles with labels found to put in legend.\n"
     ]
    },
    {
     "data": {
      "image/png": "[encoded data removed]",
      "text/plain": [
       "<Figure size 432x288 with 1 Axes>"
      ]
     },
     "metadata": {
      "needs_background": "light"
     },
     "output_type": "display_data"
    },
    {
     "data": {
      "text/plain": [
       "<Figure size 432x288 with 0 Axes>"
      ]
     },
     "metadata": {},
     "output_type": "display_data"
    }
   ],
   "source": [
    "plt.plot(nn_model_sa.fitness_curve*(-1.0))\n",
    "plt.xlabel('No. of Iterations')\n",
    "plt.ylabel('Loss')\n",
    "\n",
    "plt.legend()\n",
    "plt.show()\n",
    "plt.savefig('nn_model_sa.png')"
   ]
  },
  {
   "cell_type": "code",
   "execution_count": 186,
   "metadata": {},
   "outputs": [
    {
     "name": "stdout",
     "output_type": "stream",
     "text": [
      "Train Accuracy of neural networks is: 0.68\n",
      "Train precision_recall_fscore:\n",
      "(0.7710526315789474, 0.6833333333333332, 0.612511114344375, None)\n",
      "________________________________________________________\n",
      "Test Accuracy of neural networks is: 0.73\n",
      "Test precision_recall_fscore:\n",
      "(0.746031746031746, 0.7333333333333334, 0.7222222222222222, None)\n",
      "CPU times: user 2.52 s, sys: 9.42 ms, total: 2.53 s\n",
      "Wall time: 2.63 s\n"
     ]
    }
   ],
   "source": [
    "%%time\n",
    "\n",
    "schedule = mlrose.ExpDecay(init_temp=1e9, exp_const=0.95, min_temp=0.00001) #most important parameter is min_temp\n",
    "# schedule = mlrose.GeomDecay(init_temp=1e9, decay=0.99, min_temp=0.00001)\n",
    "# schedule = mlrose.ArithDecay(init_temp=1e9, decay=0.0001, min_temp=0.00001)\n",
    "\n",
    "nn_model_sa = mlrose.NeuralNetwork(hidden_nodes = [7,8,8], activation = 'relu', \\\n",
    "                                 algorithm = 'simulated_annealing', max_iters = 2000, \\\n",
    "                                 bias = True, is_classifier = True, learning_rate = 1e-4, \\\n",
    "                                 early_stopping = True, clip_max = 0.01, max_attempts = 1000, \\\n",
    "                                 random_state = 3, schedule=schedule, curve=True)\n",
    "\n",
    "nn_model_sa.fit(X_train, y_train)\n",
    "\n",
    "#Training Metrics\n",
    "y_pred_train_nn = nn_model_sa.predict(X_train)\n",
    "\n",
    "Accu_DT = accuracy_score(y_train, y_pred_train_nn)\n",
    "print('Train Accuracy of neural networks is: '+ str(round(Accu_DT,2)))\n",
    "print('Train precision_recall_fscore:' )\n",
    "print(precision_recall_fscore_support(y_train, y_pred_train_nn, average='macro'))\n",
    "\n",
    "# Test Metrics\n",
    "y_pred_nn = nn_model_sa.predict((X_test))\n",
    "print('________________________________________________________')\n",
    "Accu_DT = accuracy_score(y_test, y_pred_nn)\n",
    "print('Test Accuracy of neural networks is: '+ str(round(Accu_DT,2)))\n",
    "print('Test precision_recall_fscore:' )\n",
    "print(precision_recall_fscore_support(y_test, y_pred_nn, average='macro'))"
   ]
  },
  {
   "cell_type": "code",
   "execution_count": 187,
   "metadata": {},
   "outputs": [
    {
     "name": "stderr",
     "output_type": "stream",
     "text": [
      "No handles with labels found to put in legend.\n"
     ]
    },
    {
     "data": {
      "image/png": "[encoded data removed]",
      "text/plain": [
       "<Figure size 432x288 with 1 Axes>"
      ]
     },
     "metadata": {
      "needs_background": "light"
     },
     "output_type": "display_data"
    },
    {
     "data": {
      "text/plain": [
       "<Figure size 432x288 with 0 Axes>"
      ]
     },
     "metadata": {},
     "output_type": "display_data"
    }
   ],
   "source": [
    "plt.plot(nn_model_sa.fitness_curve*(-1.0))\n",
    "plt.xlabel('No. of Iterations')\n",
    "plt.ylabel('Loss')\n",
    "\n",
    "plt.legend()\n",
    "plt.show()\n",
    "plt.savefig('nn_model_sa.png')"
   ]
  },
  {
   "cell_type": "code",
   "execution_count": 189,
   "metadata": {},
   "outputs": [
    {
     "data": {
      "image/png": "[encoded data removed]",
      "text/plain": [
       "<Figure size 432x288 with 1 Axes>"
      ]
     },
     "metadata": {
      "needs_background": "light"
     },
     "output_type": "display_data"
    }
   ],
   "source": [
    "sa_exp_const=['0.15', '0.35', '0.55', '0.75', '0.95']\n",
    "sa_f1=[0.13,0.17,0.68,0.78, 0.72]\n",
    "fig, ax = plt.subplots()\n",
    "\n",
    "ax.bar(sa_exp_const, sa_f1)\n",
    "# ax.legend(loc=0); # upper left corner\n",
    "# ax.set_xlim(0,5000)\n",
    "ax.set_ylim(0, 1)\n",
    "ax.grid(color='k', alpha=0.3, linestyle='dashed', linewidth=0.4)\n",
    "ax.set_xlabel('Exponential constant')\n",
    "ax.set_ylabel('f1 score')\n",
    "plt.savefig('sa_exp_const.png')"
   ]
  },
  {
   "cell_type": "code",
   "execution_count": null,
   "metadata": {},
   "outputs": [],
   "source": []
  },
  {
   "cell_type": "markdown",
   "metadata": {},
   "source": [
    "### 5 Genetic Algorithm"
   ]
  },
  {
   "cell_type": "code",
   "execution_count": 138,
   "metadata": {},
   "outputs": [
    {
     "name": "stdout",
     "output_type": "stream",
     "text": [
      "Train Accuracy of neural networks is: 0.98\n",
      "Train precision_recall_fscore:\n",
      "(0.9841269841269842, 0.9833333333333334, 0.9833229101521784, None)\n",
      "________________________________________________________\n",
      "Test Accuracy of neural networks is: 1.0\n",
      "Test precision_recall_fscore:\n",
      "(1.0, 1.0, 1.0, None)\n",
      "CPU times: user 5min 31s, sys: 736 ms, total: 5min 32s\n",
      "Wall time: 5min 32s\n"
     ]
    }
   ],
   "source": [
    "%%time\n",
    "nn_model_ga = mlrose.NeuralNetwork(hidden_nodes = [7,8,8], activation = 'relu', \\\n",
    "                                 algorithm = 'genetic_alg', max_iters = 2000, \\\n",
    "                                 bias = True, is_classifier = True, learning_rate = 1e-3, \\\n",
    "                                 early_stopping = False, clip_max = 10000, max_attempts = 100, \\\n",
    "                                 random_state = 3, pop_size=200, mutation_prob=0.5, curve=True) #clip_max is the most important parameter to tune, need to use large clip_max\n",
    "\n",
    "nn_model_ga.fit(X_train, y_train)\n",
    "\n",
    "#Training Metrics\n",
    "y_pred_train_nn = nn_model_ga.predict(X_train)\n",
    "\n",
    "Accu_DT = accuracy_score(y_train, y_pred_train_nn)\n",
    "print('Train Accuracy of neural networks is: '+ str(round(Accu_DT,2)))\n",
    "print('Train precision_recall_fscore:' )\n",
    "print(precision_recall_fscore_support(y_train, y_pred_train_nn, average='macro'))\n",
    "\n",
    "# Test Metrics\n",
    "y_pred_nn = nn_model_ga.predict(X_test)\n",
    "print('________________________________________________________')\n",
    "Accu_DT = accuracy_score(y_test, y_pred_nn)\n",
    "print('Test Accuracy of neural networks is: '+ str(round(Accu_DT,2)))\n",
    "print('Test precision_recall_fscore:' )\n",
    "print(precision_recall_fscore_support(y_test, y_pred_nn, average='macro'))"
   ]
  },
  {
   "cell_type": "code",
   "execution_count": 144,
   "metadata": {
    "scrolled": true
   },
   "outputs": [
    {
     "name": "stderr",
     "output_type": "stream",
     "text": [
      "No handles with labels found to put in legend.\n"
     ]
    },
    {
     "data": {
      "image/png": "[encoded data removed]",
      "text/plain": [
       "<Figure size 432x288 with 1 Axes>"
      ]
     },
     "metadata": {
      "needs_background": "light"
     },
     "output_type": "display_data"
    },
    {
     "data": {
      "text/plain": [
       "<Figure size 432x288 with 0 Axes>"
      ]
     },
     "metadata": {},
     "output_type": "display_data"
    }
   ],
   "source": [
    "plt.plot(nn_model_ga.fitness_curve*(-1.0))\n",
    "plt.xlabel('No. of Iterations')\n",
    "plt.ylabel('Loss')\n",
    "\n",
    "plt.legend()\n",
    "plt.show()\n",
    "plt.savefig('nn_model_ga.png')"
   ]
  },
  {
   "cell_type": "code",
   "execution_count": 140,
   "metadata": {},
   "outputs": [
    {
     "name": "stdout",
     "output_type": "stream",
     "text": [
      "2000\n"
     ]
    }
   ],
   "source": [
    "print(len(nn_model_ga.fitness_curve))"
   ]
  },
  {
   "cell_type": "code",
   "execution_count": 146,
   "metadata": {},
   "outputs": [
    {
     "name": "stdout",
     "output_type": "stream",
     "text": [
      "Train Accuracy of neural networks is: 0.98\n",
      "Train precision_recall_fscore:\n",
      "(0.9841269841269842, 0.9833333333333334, 0.9833229101521784, None)\n",
      "________________________________________________________\n",
      "Test Accuracy of neural networks is: 1.0\n",
      "Test precision_recall_fscore:\n",
      "(1.0, 1.0, 1.0, None)\n",
      "CPU times: user 5min 32s, sys: 997 ms, total: 5min 33s\n",
      "Wall time: 5min 34s\n"
     ]
    }
   ],
   "source": [
    "%%time\n",
    "nn_model_ga_1 = mlrose.NeuralNetwork(hidden_nodes = [7,8,8], activation = 'relu', \\\n",
    "                                 algorithm = 'genetic_alg', max_iters = 2000, \\\n",
    "                                 bias = True, is_classifier = True, learning_rate = 1e-3, \\\n",
    "                                 early_stopping = False, clip_max = 1000, max_attempts = 100, \\\n",
    "                                 random_state = 3, pop_size=200, mutation_prob=0.5, curve=True) #clip_max is the most important parameter to tune, need to use large clip_max\n",
    "\n",
    "nn_model_ga_1.fit(X_train, y_train)\n",
    "\n",
    "#Training Metrics\n",
    "y_pred_train_nn = nn_model_ga_1.predict(X_train)\n",
    "\n",
    "Accu_DT = accuracy_score(y_train, y_pred_train_nn)\n",
    "print('Train Accuracy of neural networks is: '+ str(round(Accu_DT,2)))\n",
    "print('Train precision_recall_fscore:' )\n",
    "print(precision_recall_fscore_support(y_train, y_pred_train_nn, average='macro'))\n",
    "\n",
    "# Test Metrics\n",
    "y_pred_nn = nn_model_ga_1.predict(X_test)\n",
    "print('________________________________________________________')\n",
    "Accu_DT = accuracy_score(y_test, y_pred_nn)\n",
    "print('Test Accuracy of neural networks is: '+ str(round(Accu_DT,2)))\n",
    "print('Test precision_recall_fscore:' )\n",
    "print(precision_recall_fscore_support(y_test, y_pred_nn, average='macro'))"
   ]
  },
  {
   "cell_type": "code",
   "execution_count": 147,
   "metadata": {},
   "outputs": [
    {
     "name": "stderr",
     "output_type": "stream",
     "text": [
      "No handles with labels found to put in legend.\n"
     ]
    },
    {
     "data": {
      "image/png": "[encoded data removed]",
      "text/plain": [
       "<Figure size 432x288 with 1 Axes>"
      ]
     },
     "metadata": {
      "needs_background": "light"
     },
     "output_type": "display_data"
    },
    {
     "data": {
      "text/plain": [
       "<Figure size 432x288 with 0 Axes>"
      ]
     },
     "metadata": {},
     "output_type": "display_data"
    }
   ],
   "source": [
    "plt.plot(nn_model_ga_1.fitness_curve*(-1.0))\n",
    "plt.xlabel('No. of Iterations')\n",
    "plt.ylabel('Loss')\n",
    "\n",
    "plt.legend()\n",
    "plt.show()\n",
    "plt.savefig('nn_model_ga.png')"
   ]
  },
  {
   "cell_type": "code",
   "execution_count": 195,
   "metadata": {},
   "outputs": [
    {
     "name": "stdout",
     "output_type": "stream",
     "text": [
      "Train Accuracy of neural networks is: 0.46\n",
      "Train precision_recall_fscore:\n",
      "(0.4603174603174603, 0.4583333333333333, 0.3657262277951933, None)\n",
      "________________________________________________________\n",
      "Test Accuracy of neural networks is: 0.57\n",
      "Test precision_recall_fscore:\n",
      "(0.47826086956521735, 0.5666666666666667, 0.4765300059417707, None)\n",
      "CPU times: user 5min 45s, sys: 1.1 s, total: 5min 46s\n",
      "Wall time: 5min 53s\n"
     ]
    }
   ],
   "source": [
    "%%time\n",
    "nn_model_ga_1 = mlrose.NeuralNetwork(hidden_nodes = [7,8,8], activation = 'relu', \\\n",
    "                                 algorithm = 'genetic_alg', max_iters = 2000, \\\n",
    "                                 bias = True, is_classifier = True, learning_rate = 1e-3, \\\n",
    "                                 early_stopping = False, clip_max = 100, max_attempts = 100, \\\n",
    "                                 random_state = 3, pop_size=200, mutation_prob=0.5, curve=True) #clip_max is the most important parameter to tune, need to use large clip_max\n",
    "\n",
    "nn_model_ga_1.fit(X_train, y_train)\n",
    "\n",
    "#Training Metrics\n",
    "y_pred_train_nn = nn_model_ga_1.predict(X_train)\n",
    "\n",
    "Accu_DT = accuracy_score(y_train, y_pred_train_nn)\n",
    "print('Train Accuracy of neural networks is: '+ str(round(Accu_DT,2)))\n",
    "print('Train precision_recall_fscore:' )\n",
    "print(precision_recall_fscore_support(y_train, y_pred_train_nn, average='macro'))\n",
    "\n",
    "# Test Metrics\n",
    "y_pred_nn = nn_model_ga_1.predict(X_test)\n",
    "print('________________________________________________________')\n",
    "Accu_DT = accuracy_score(y_test, y_pred_nn)\n",
    "print('Test Accuracy of neural networks is: '+ str(round(Accu_DT,2)))\n",
    "print('Test precision_recall_fscore:' )\n",
    "print(precision_recall_fscore_support(y_test, y_pred_nn, average='macro'))"
   ]
  },
  {
   "cell_type": "code",
   "execution_count": 196,
   "metadata": {},
   "outputs": [
    {
     "name": "stderr",
     "output_type": "stream",
     "text": [
      "No handles with labels found to put in legend.\n"
     ]
    },
    {
     "data": {
      "image/png": "[encoded data removed]",
      "text/plain": [
       "<Figure size 432x288 with 1 Axes>"
      ]
     },
     "metadata": {
      "needs_background": "light"
     },
     "output_type": "display_data"
    },
    {
     "data": {
      "text/plain": [
       "<Figure size 432x288 with 0 Axes>"
      ]
     },
     "metadata": {},
     "output_type": "display_data"
    }
   ],
   "source": [
    "plt.plot(nn_model_ga_1.fitness_curve*(-1.0))\n",
    "plt.xlabel('No. of Iterations')\n",
    "plt.ylabel('Loss')\n",
    "\n",
    "plt.legend()\n",
    "plt.show()\n",
    "plt.savefig('nn_model_ga.png')"
   ]
  },
  {
   "cell_type": "code",
   "execution_count": 197,
   "metadata": {},
   "outputs": [
    {
     "name": "stdout",
     "output_type": "stream",
     "text": [
      "Train Accuracy of neural networks is: 0.5\n",
      "Train precision_recall_fscore:\n",
      "(0.4666666666666666, 0.5, 0.41269841269841273, None)\n",
      "________________________________________________________\n",
      "Test Accuracy of neural networks is: 0.53\n",
      "Test precision_recall_fscore:\n",
      "(0.47222222222222227, 0.5333333333333333, 0.446078431372549, None)\n",
      "CPU times: user 5min 45s, sys: 1.22 s, total: 5min 46s\n",
      "Wall time: 5min 53s\n"
     ]
    }
   ],
   "source": [
    "%%time\n",
    "nn_model_ga_1 = mlrose.NeuralNetwork(hidden_nodes = [7,8,8], activation = 'relu', \\\n",
    "                                 algorithm = 'genetic_alg', max_iters = 2000, \\\n",
    "                                 bias = True, is_classifier = True, learning_rate = 1e-3, \\\n",
    "                                 early_stopping = False, clip_max = 10, max_attempts = 100, \\\n",
    "                                 random_state = 3, pop_size=200, mutation_prob=0.5, curve=True) #clip_max is the most important parameter to tune, need to use large clip_max\n",
    "\n",
    "nn_model_ga_1.fit(X_train, y_train)\n",
    "\n",
    "#Training Metrics\n",
    "y_pred_train_nn = nn_model_ga_1.predict(X_train)\n",
    "\n",
    "Accu_DT = accuracy_score(y_train, y_pred_train_nn)\n",
    "print('Train Accuracy of neural networks is: '+ str(round(Accu_DT,2)))\n",
    "print('Train precision_recall_fscore:' )\n",
    "print(precision_recall_fscore_support(y_train, y_pred_train_nn, average='macro'))\n",
    "\n",
    "# Test Metrics\n",
    "y_pred_nn = nn_model_ga_1.predict(X_test)\n",
    "print('________________________________________________________')\n",
    "Accu_DT = accuracy_score(y_test, y_pred_nn)\n",
    "print('Test Accuracy of neural networks is: '+ str(round(Accu_DT,2)))\n",
    "print('Test precision_recall_fscore:' )\n",
    "print(precision_recall_fscore_support(y_test, y_pred_nn, average='macro'))"
   ]
  },
  {
   "cell_type": "code",
   "execution_count": 198,
   "metadata": {},
   "outputs": [
    {
     "name": "stderr",
     "output_type": "stream",
     "text": [
      "No handles with labels found to put in legend.\n"
     ]
    },
    {
     "data": {
      "image/png": "[encoded data removed]",
      "text/plain": [
       "<Figure size 432x288 with 1 Axes>"
      ]
     },
     "metadata": {
      "needs_background": "light"
     },
     "output_type": "display_data"
    },
    {
     "data": {
      "text/plain": [
       "<Figure size 432x288 with 0 Axes>"
      ]
     },
     "metadata": {},
     "output_type": "display_data"
    }
   ],
   "source": [
    "plt.plot(nn_model_ga_1.fitness_curve*(-1.0))\n",
    "plt.xlabel('No. of Iterations')\n",
    "plt.ylabel('Loss')\n",
    "\n",
    "plt.legend()\n",
    "plt.show()\n",
    "plt.savefig('nn_model_ga.png')"
   ]
  },
  {
   "cell_type": "code",
   "execution_count": 199,
   "metadata": {},
   "outputs": [
    {
     "name": "stdout",
     "output_type": "stream",
     "text": [
      "Train Accuracy of neural networks is: 0.71\n",
      "Train precision_recall_fscore:\n",
      "(0.7545015371102327, 0.7083333333333334, 0.6642081909216285, None)\n",
      "________________________________________________________\n",
      "Test Accuracy of neural networks is: 0.73\n",
      "Test precision_recall_fscore:\n",
      "(0.746031746031746, 0.7333333333333334, 0.7222222222222222, None)\n",
      "CPU times: user 5min 47s, sys: 1.62 s, total: 5min 49s\n",
      "Wall time: 5min 56s\n"
     ]
    }
   ],
   "source": [
    "%%time\n",
    "nn_model_ga_1 = mlrose.NeuralNetwork(hidden_nodes = [7,8,8], activation = 'relu', \\\n",
    "                                 algorithm = 'genetic_alg', max_iters = 2000, \\\n",
    "                                 bias = True, is_classifier = True, learning_rate = 1e-3, \\\n",
    "                                 early_stopping = False, clip_max = 1, max_attempts = 100, \\\n",
    "                                 random_state = 3, pop_size=200, mutation_prob=0.5, curve=True) #clip_max is the most important parameter to tune, need to use large clip_max\n",
    "\n",
    "nn_model_ga_1.fit(X_train, y_train)\n",
    "\n",
    "#Training Metrics\n",
    "y_pred_train_nn = nn_model_ga_1.predict(X_train)\n",
    "\n",
    "Accu_DT = accuracy_score(y_train, y_pred_train_nn)\n",
    "print('Train Accuracy of neural networks is: '+ str(round(Accu_DT,2)))\n",
    "print('Train precision_recall_fscore:' )\n",
    "print(precision_recall_fscore_support(y_train, y_pred_train_nn, average='macro'))\n",
    "\n",
    "# Test Metrics\n",
    "y_pred_nn = nn_model_ga_1.predict(X_test)\n",
    "print('________________________________________________________')\n",
    "Accu_DT = accuracy_score(y_test, y_pred_nn)\n",
    "print('Test Accuracy of neural networks is: '+ str(round(Accu_DT,2)))\n",
    "print('Test precision_recall_fscore:' )\n",
    "print(precision_recall_fscore_support(y_test, y_pred_nn, average='macro'))"
   ]
  },
  {
   "cell_type": "code",
   "execution_count": 200,
   "metadata": {},
   "outputs": [
    {
     "name": "stderr",
     "output_type": "stream",
     "text": [
      "No handles with labels found to put in legend.\n"
     ]
    },
    {
     "data": {
      "image/png": "[encoded data removed]",
      "text/plain": [
       "<Figure size 432x288 with 1 Axes>"
      ]
     },
     "metadata": {
      "needs_background": "light"
     },
     "output_type": "display_data"
    },
    {
     "data": {
      "text/plain": [
       "<Figure size 432x288 with 0 Axes>"
      ]
     },
     "metadata": {},
     "output_type": "display_data"
    }
   ],
   "source": [
    "plt.plot(nn_model_ga_1.fitness_curve*(-1.0))\n",
    "plt.xlabel('No. of Iterations')\n",
    "plt.ylabel('Loss')\n",
    "\n",
    "plt.legend()\n",
    "plt.show()\n",
    "plt.savefig('nn_model_ga.png')"
   ]
  },
  {
   "cell_type": "code",
   "execution_count": 201,
   "metadata": {},
   "outputs": [
    {
     "data": {
      "image/png": "[encoded data removed]",
      "text/plain": [
       "<Figure size 432x288 with 1 Axes>"
      ]
     },
     "metadata": {
      "needs_background": "light"
     },
     "output_type": "display_data"
    }
   ],
   "source": [
    "clip_max_ga=['1', '10', '100', '1000', '10000']\n",
    "ga_f1=[0.72,0.45,0.48,1.0, 1.0]\n",
    "fig, ax = plt.subplots()\n",
    "\n",
    "ax.bar(clip_max_ga, ga_f1)\n",
    "ax.set_ylim(0, 1)\n",
    "ax.grid(color='k', alpha=0.3, linestyle='dashed', linewidth=0.4)\n",
    "ax.set_xlabel('clip_max')\n",
    "ax.set_ylabel('f1 score')\n",
    "plt.savefig('clip_max_ga.png')"
   ]
  },
  {
   "cell_type": "markdown",
   "metadata": {},
   "source": [
    "## 6 Comparision"
   ]
  },
  {
   "cell_type": "code",
   "execution_count": 202,
   "metadata": {},
   "outputs": [
    {
     "data": {
      "image/png": "[encoded data removed]",
      "text/plain": [
       "<Figure size 432x288 with 1 Axes>"
      ]
     },
     "metadata": {
      "needs_background": "light"
     },
     "output_type": "display_data"
    }
   ],
   "source": [
    "# performance comparision on F1 score\n",
    "alg_p=['GD', 'RHC', 'SA', 'GA']\n",
    "f1=[1.0,0.93,0.84,1.0]\n",
    "fig, ax = plt.subplots()\n",
    "\n",
    "ax.bar(alg_p, f1)\n",
    "ax.set_ylim(0, 1)\n",
    "ax.grid(color='k', alpha=0.3, linestyle='dashed', linewidth=0.4)\n",
    "ax.set_xlabel('Algorithm')\n",
    "ax.set_ylabel('f1 score')\n",
    "plt.savefig('alg_p.png')"
   ]
  },
  {
   "cell_type": "code",
   "execution_count": 204,
   "metadata": {},
   "outputs": [
    {
     "data": {
      "image/png": "[encoded data removed]",
      "text/plain": [
       "<Figure size 432x288 with 1 Axes>"
      ]
     },
     "metadata": {
      "needs_background": "light"
     },
     "output_type": "display_data"
    }
   ],
   "source": [
    "# Wall Clock Time comparision\n",
    "alg_t=['GD', 'RHC', 'SA', 'GA']\n",
    "runtime=[3.32,35.7, 2.61, 332]\n",
    "fig, ax = plt.subplots()\n",
    "\n",
    "ax.bar(alg_t, runtime)\n",
    "ax.set_ylim(0, 400)\n",
    "ax.grid(color='k', alpha=0.3, linestyle='dashed', linewidth=0.4)\n",
    "ax.set_xlabel('Algorithm')\n",
    "ax.set_ylabel('Wall Clock Time (s)')\n",
    "plt.savefig('alg_t.png')"
   ]
  },
  {
   "cell_type": "code",
   "execution_count": null,
   "metadata": {},
   "outputs": [],
   "source": []
  }
 ],
 "metadata": {
  "kernelspec": {
   "display_name": "Python 3",
   "language": "python",
   "name": "python3"
  },
  "language_info": {
   "codemirror_mode": {
    "name": "ipython",
    "version": 3
   },
   "file_extension": ".py",
   "mimetype": "text/x-python",
   "name": "python",
   "nbconvert_exporter": "python",
   "pygments_lexer": "ipython3",
   "version": "3.6.5"
  }
 },
 "nbformat": 4,
 "nbformat_minor": 2
}
