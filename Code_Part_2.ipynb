{
 "cells": [
  {
   "cell_type": "code",
   "execution_count": 13,
   "metadata": {},
   "outputs": [],
   "source": [
    "import mlrose\n",
    "import numpy as np"
   ]
  },
  {
   "cell_type": "markdown",
   "metadata": {},
   "source": [
    "# Problem 1: Four Peaks (SA)"
   ]
  },
  {
   "cell_type": "markdown",
   "metadata": {},
   "source": [
    "## 1.1 randomized hill climbing"
   ]
  },
  {
   "cell_type": "code",
   "execution_count": 14,
   "metadata": {},
   "outputs": [],
   "source": [
    "fitness = mlrose.FourPeaks(t_pct=0.15)\n"
   ]
  },
  {
   "cell_type": "code",
   "execution_count": 15,
   "metadata": {},
   "outputs": [],
   "source": [
    "problem = mlrose.DiscreteOpt(length = 100, fitness_fn = fitness, maximize=True, max_val=2)"
   ]
  },
  {
   "cell_type": "code",
   "execution_count": 4,
   "metadata": {},
   "outputs": [
    {
     "name": "stdout",
     "output_type": "stream",
     "text": [
      "The best state found is:  [0 1 0 1 0 1 0 0 1 1 0 0 0 1 0 1 0 1 1 1 1 0 1 0 0 0 1 1 1 1 1 0 1 0 0 1 0\n",
      " 0 0 0 1 0 1 1 1 0 0 0 1 0 1 1 0 0 0 1 1 1 0 0 0 1 1 1 0 0 0 0 1 1 0 0 0 0\n",
      " 0 1 0 0 0 0 0 1 1 1 1 0 1 0 0 0 0 0 0 0 0 0 0 0 0 0]\n",
      "The fitness at the best state is:  13.0\n",
      "CPU times: user 25.9 ms, sys: 2.85 ms, total: 28.7 ms\n",
      "Wall time: 32.5 ms\n"
     ]
    }
   ],
   "source": [
    "%%time\n",
    "best_state, best_fitness = mlrose.random_hill_climb(problem, max_attempts=100, max_iters=10, restarts=200, init_state=None, curve=False, random_state=2)\n",
    "\n",
    "print('The best state found is: ', best_state)\n",
    "print('The fitness at the best state is: ', best_fitness)"
   ]
  },
  {
   "cell_type": "code",
   "execution_count": 5,
   "metadata": {},
   "outputs": [
    {
     "name": "stdout",
     "output_type": "stream",
     "text": [
      "The best state found is:  [1 1 0 0 0 1 0 1 1 0 0 0 0 0 1 0 1 1 0 0 1 1 0 0 1 0 0 0 0 1 1 0 0 0 0 0 1\n",
      " 0 0 0 1 0 0 1 1 0 1 1 1 0 1 1 1 1 0 1 1 1 0 1 1 0 1 0 0 1 0 1 1 1 1 0 0 0\n",
      " 0 0 0 0 0 0 0 0 0 0 0 0 0 0 0 0 0 0 0 0 0 0 0 0 0 0]\n",
      "The fitness at the best state is:  29.0\n",
      "CPU times: user 399 ms, sys: 13.7 ms, total: 413 ms\n",
      "Wall time: 402 ms\n"
     ]
    }
   ],
   "source": [
    "%%time\n",
    "best_state, best_fitness = mlrose.random_hill_climb(problem, max_attempts=100, max_iters=500, restarts=200, init_state=None, curve=False, random_state=2)\n",
    "\n",
    "print('The best state found is: ', best_state)\n",
    "print('The fitness at the best state is: ', best_fitness)"
   ]
  },
  {
   "cell_type": "code",
   "execution_count": 6,
   "metadata": {},
   "outputs": [
    {
     "name": "stdout",
     "output_type": "stream",
     "text": [
      "The best state found is:  [1 1 0 0 0 1 0 1 1 0 0 0 0 0 1 0 1 1 0 0 1 1 0 0 1 0 0 0 0 1 1 0 0 0 0 0 1\n",
      " 0 0 0 1 0 0 1 1 0 1 1 1 0 1 1 1 1 0 1 1 1 0 1 1 0 1 0 0 1 0 1 1 1 1 0 0 0\n",
      " 0 0 0 0 0 0 0 0 0 0 0 0 0 0 0 0 0 0 0 0 0 0 0 0 0 0]\n",
      "The fitness at the best state is:  29.0\n",
      "CPU times: user 388 ms, sys: 4.85 ms, total: 393 ms\n",
      "Wall time: 390 ms\n"
     ]
    }
   ],
   "source": [
    "%%time\n",
    "best_state, best_fitness = mlrose.random_hill_climb(problem, max_attempts=100, max_iters=1000, restarts=200, init_state=None, curve=False, random_state=2)\n",
    "\n",
    "print('The best state found is: ', best_state)\n",
    "print('The fitness at the best state is: ', best_fitness)"
   ]
  },
  {
   "cell_type": "code",
   "execution_count": 7,
   "metadata": {},
   "outputs": [
    {
     "name": "stdout",
     "output_type": "stream",
     "text": [
      "The best state found is:  [1 1 0 0 0 1 0 1 1 0 0 0 0 0 1 0 1 1 0 0 1 1 0 0 1 0 0 0 0 1 1 0 0 0 0 0 1\n",
      " 0 0 0 1 0 0 1 1 0 1 1 1 0 1 1 1 1 0 1 1 1 0 1 1 0 1 0 0 1 0 1 1 1 1 0 0 0\n",
      " 0 0 0 0 0 0 0 0 0 0 0 0 0 0 0 0 0 0 0 0 0 0 0 0 0 0]\n",
      "The fitness at the best state is:  29.0\n",
      "CPU times: user 407 ms, sys: 27.4 ms, total: 434 ms\n",
      "Wall time: 410 ms\n"
     ]
    }
   ],
   "source": [
    "%%time\n",
    "best_state, best_fitness = mlrose.random_hill_climb(problem, max_attempts=100, max_iters=2500, restarts=200, init_state=None, curve=False, random_state=2)\n",
    "\n",
    "print('The best state found is: ', best_state)\n",
    "print('The fitness at the best state is: ', best_fitness)"
   ]
  },
  {
   "cell_type": "code",
   "execution_count": 8,
   "metadata": {},
   "outputs": [
    {
     "name": "stdout",
     "output_type": "stream",
     "text": [
      "The best state found is:  [1 1 0 0 0 1 0 1 1 0 0 0 0 0 1 0 1 1 0 0 1 1 0 0 1 0 0 0 0 1 1 0 0 0 0 0 1\n",
      " 0 0 0 1 0 0 1 1 0 1 1 1 0 1 1 1 1 0 1 1 1 0 1 1 0 1 0 0 1 0 1 1 1 1 0 0 0\n",
      " 0 0 0 0 0 0 0 0 0 0 0 0 0 0 0 0 0 0 0 0 0 0 0 0 0 0]\n",
      "The fitness at the best state is:  29.0\n",
      "CPU times: user 398 ms, sys: 15.3 ms, total: 414 ms\n",
      "Wall time: 401 ms\n"
     ]
    }
   ],
   "source": [
    "%%time\n",
    "best_state, best_fitness = mlrose.random_hill_climb(problem, max_attempts=100, max_iters=5000, restarts=200, init_state=None, curve=False, random_state=2)\n",
    "\n",
    "print('The best state found is: ', best_state)\n",
    "print('The fitness at the best state is: ', best_fitness)"
   ]
  },
  {
   "cell_type": "code",
   "execution_count": 65,
   "metadata": {},
   "outputs": [],
   "source": [
    "iteration=[10, 500, 1000, 2500, 5000]\n",
    "fitness_rhc = [13,29,29,29,29]\n",
    "runtime_rhc = [32.5, 402, 390,410,401] #ms"
   ]
  },
  {
   "cell_type": "markdown",
   "metadata": {},
   "source": [
    "## 1.2 simulated annealing"
   ]
  },
  {
   "cell_type": "code",
   "execution_count": 25,
   "metadata": {},
   "outputs": [
    {
     "name": "stdout",
     "output_type": "stream",
     "text": [
      "The best state found is:  [0 1 1 0 0 1 0 1 0 1 0 1 1 1 1 1 1 1 1 0 0 0 1 1 1 0 0 0 1 1 1 0 0 1 0 0 1\n",
      " 1 1 0 1 0 0 1 1 1 1 0 0 0 0 0 1 0 0 1 1 1 1 1 0 0 0 1 0 1 1 1 0 1 1 0 1 0\n",
      " 1 1 1 1 0 0 0 0 0 0 1 0 0 1 0 0 0 1 0 0 0 1 0 0 0 0]\n",
      "The fitness at the best state is:  4.0\n",
      "CPU times: user 1.06 ms, sys: 419 µs, total: 1.48 ms\n",
      "Wall time: 1.09 ms\n"
     ]
    }
   ],
   "source": [
    "%%time\n",
    "schedule = mlrose.ExpDecay(init_temp=10000, exp_const=0.25, min_temp=0.01)\n",
    "best_state, best_fitness = mlrose.simulated_annealing(problem, schedule=schedule, max_attempts=100, max_iters=10, init_state=None, curve=False, random_state=2)\n",
    "print('The best state found is: ', best_state)\n",
    "print('The fitness at the best state is: ', best_fitness)"
   ]
  },
  {
   "cell_type": "code",
   "execution_count": 26,
   "metadata": {},
   "outputs": [
    {
     "name": "stdout",
     "output_type": "stream",
     "text": [
      "The best state found is:  [1 1 1 1 0 1 0 1 1 1 0 0 1 0 0 1 1 1 1 1 0 1 1 0 1 1 1 1 0 0 0 0 0 0 0 0 0\n",
      " 0 1 0 1 0 0 0 1 1 1 1 0 0 0 0 1 0 0 1 1 0 0 1 1 1 0 0 1 1 1 0 0 1 1 1 1 1\n",
      " 1 1 1 0 1 0 0 1 1 0 1 0 0 0 0 0 0 0 0 0 0 0 0 0 0 0]\n",
      "The fitness at the best state is:  15.0\n",
      "CPU times: user 18.2 ms, sys: 4.23 ms, total: 22.4 ms\n",
      "Wall time: 18.7 ms\n"
     ]
    }
   ],
   "source": [
    "%%time\n",
    "schedule = mlrose.ExpDecay(init_temp=10000, exp_const=0.25, min_temp=0.01)\n",
    "best_state, best_fitness = mlrose.simulated_annealing(problem, schedule=schedule, max_attempts=100, max_iters=500, init_state=None, curve=False, random_state=2)\n",
    "print('The best state found is: ', best_state)\n",
    "print('The fitness at the best state is: ', best_fitness)"
   ]
  },
  {
   "cell_type": "code",
   "execution_count": 27,
   "metadata": {},
   "outputs": [
    {
     "name": "stdout",
     "output_type": "stream",
     "text": [
      "The best state found is:  [0 1 0 0 1 0 0 0 0 1 0 0 0 0 1 1 1 1 0 0 1 0 1 0 1 0 0 0 1 0 0 1 0 1 0 1 0\n",
      " 1 1 1 1 1 1 0 0 0 1 0 0 0 1 1 0 0 1 1 1 0 1 0 0 1 1 1 0 0 0 0 0 0 0 0 0 0\n",
      " 0 0 0 0 0 0 0 0 0 0 0 0 0 0 0 0 0 0 0 0 0 0 0 0 0 0]\n",
      "The fitness at the best state is:  36.0\n",
      "CPU times: user 36.6 ms, sys: 8.19 ms, total: 44.8 ms\n",
      "Wall time: 37.8 ms\n"
     ]
    }
   ],
   "source": [
    "%%time\n",
    "schedule = mlrose.ExpDecay(init_temp=10000, exp_const=0.25, min_temp=0.01)\n",
    "best_state, best_fitness = mlrose.simulated_annealing(problem, schedule=schedule, max_attempts=100, max_iters=1000, init_state=None, curve=False, random_state=2)\n",
    "print('The best state found is: ', best_state)\n",
    "print('The fitness at the best state is: ', best_fitness)"
   ]
  },
  {
   "cell_type": "code",
   "execution_count": 28,
   "metadata": {},
   "outputs": [
    {
     "name": "stdout",
     "output_type": "stream",
     "text": [
      "The best state found is:  [1 1 0 1 0 1 0 1 0 1 1 1 1 0 0 1 0 0 0 1 1 1 1 1 0 0 1 1 0 1 0 0 0 0 0 0 0\n",
      " 0 0 0 0 0 0 0 0 0 0 0 0 0 0 0 0 0 0 0 0 0 0 0 0 0 0 0 0 0 0 0 0 0 0 0 0 0\n",
      " 0 0 0 0 0 0 0 0 0 0 0 0 0 0 0 0 0 0 0 0 0 0 0 0 0 0]\n",
      "The fitness at the best state is:  70.0\n",
      "CPU times: user 93.9 ms, sys: 18 ms, total: 112 ms\n",
      "Wall time: 96.8 ms\n"
     ]
    }
   ],
   "source": [
    "%%time\n",
    "schedule = mlrose.ExpDecay(init_temp=10000, exp_const=0.25, min_temp=0.01)\n",
    "best_state, best_fitness = mlrose.simulated_annealing(problem, schedule=schedule, max_attempts=100, max_iters=2500, init_state=None, curve=False, random_state=2)\n",
    "print('The best state found is: ', best_state)\n",
    "print('The fitness at the best state is: ', best_fitness)"
   ]
  },
  {
   "cell_type": "code",
   "execution_count": 29,
   "metadata": {},
   "outputs": [
    {
     "name": "stdout",
     "output_type": "stream",
     "text": [
      "The best state found is:  [0 1 0 0 0 0 0 0 0 0 0 0 0 0 0 0 0 0 0 0 0 0 0 0 0 0 0 0 0 0 0 0 0 0 0 0 0\n",
      " 0 0 0 0 0 0 0 0 0 0 0 0 0 0 0 0 0 0 0 0 0 0 0 0 0 0 0 0 0 0 0 0 0 0 0 0 0\n",
      " 0 0 0 0 0 0 0 0 0 0 0 0 0 0 0 0 0 0 0 0 0 0 0 0 0 0]\n",
      "The fitness at the best state is:  98.0\n",
      "CPU times: user 140 ms, sys: 13 ms, total: 153 ms\n",
      "Wall time: 143 ms\n"
     ]
    }
   ],
   "source": [
    "%%time\n",
    "schedule = mlrose.ExpDecay(init_temp=10000, exp_const=0.25, min_temp=0.01)\n",
    "best_state, best_fitness = mlrose.simulated_annealing(problem, schedule=schedule, max_attempts=100, max_iters=5000, init_state=None, curve=False, random_state=2)\n",
    "print('The best state found is: ', best_state)\n",
    "print('The fitness at the best state is: ', best_fitness)"
   ]
  },
  {
   "cell_type": "code",
   "execution_count": 66,
   "metadata": {},
   "outputs": [],
   "source": [
    "fitness_sa = [4,15,36,70,98]\n",
    "runtime_sa = [1.09, 18.7,37.8,96.8,143] #ms"
   ]
  },
  {
   "cell_type": "markdown",
   "metadata": {},
   "source": [
    "## 1.3 genetic algorithm"
   ]
  },
  {
   "cell_type": "code",
   "execution_count": 16,
   "metadata": {},
   "outputs": [
    {
     "name": "stdout",
     "output_type": "stream",
     "text": [
      "The best state found is:  [1 1 1 1 1 1 1 1 1 1 1 1 1 1 1 1 1 0 1 0 1 0 0 1 1 0 0 1 1 0 1 0 0 1 1 1 1\n",
      " 1 1 1 0 1 0 1 0 0 1 0 0 0 1 1 0 0 0 1 0 0 1 1 0 0 0 1 1 1 0 1 0 0 0 0 1 1\n",
      " 0 0 1 0 1 1 0 1 1 1 0 0 1 1 1 1 1 1 0 1 1 1 0 1 0 0]\n",
      "The fitness at the best state is:  17.0\n",
      "CPU times: user 167 ms, sys: 3.34 ms, total: 170 ms\n",
      "Wall time: 173 ms\n"
     ]
    }
   ],
   "source": [
    "%%time\n",
    "best_state, best_fitness = mlrose.genetic_alg(problem, pop_size=200, mutation_prob=0.1, max_attempts=100, max_iters=10, curve=False, random_state=2)\n",
    "print('The best state found is: ', best_state)\n",
    "print('The fitness at the best state is: ', best_fitness)"
   ]
  },
  {
   "cell_type": "code",
   "execution_count": 17,
   "metadata": {},
   "outputs": [
    {
     "name": "stdout",
     "output_type": "stream",
     "text": [
      "The best state found is:  [1 1 1 1 1 1 1 1 1 1 1 1 1 1 1 1 1 1 1 1 1 1 1 1 1 0 0 1 0 1 1 0 1 0 0 0 1\n",
      " 1 1 1 1 0 0 0 1 0 1 1 1 1 1 0 0 1 1 0 1 1 1 1 1 1 0 0 1 0 1 1 1 0 1 1 1 0\n",
      " 0 1 0 0 1 0 0 1 1 0 1 0 1 0 0 1 0 1 1 0 1 0 0 0 0 1]\n",
      "The fitness at the best state is:  25.0\n",
      "CPU times: user 2.12 s, sys: 9.83 ms, total: 2.13 s\n",
      "Wall time: 2.13 s\n"
     ]
    }
   ],
   "source": [
    "%%time\n",
    "best_state, best_fitness = mlrose.genetic_alg(problem, pop_size=200, mutation_prob=0.1, max_attempts=100, max_iters=500, curve=False, random_state=2)\n",
    "print('The best state found is: ', best_state)\n",
    "print('The fitness at the best state is: ', best_fitness)"
   ]
  },
  {
   "cell_type": "code",
   "execution_count": 18,
   "metadata": {},
   "outputs": [
    {
     "name": "stdout",
     "output_type": "stream",
     "text": [
      "The best state found is:  [1 1 1 1 1 1 1 1 1 1 1 1 1 1 1 1 1 1 1 1 1 1 1 1 1 0 0 1 0 1 1 0 1 0 0 0 1\n",
      " 1 1 1 1 0 0 0 1 0 1 1 1 1 1 0 0 1 1 0 1 1 1 1 1 1 0 0 1 0 1 1 1 0 1 1 1 0\n",
      " 0 1 0 0 1 0 0 1 1 0 1 0 1 0 0 1 0 1 1 0 1 0 0 0 0 1]\n",
      "The fitness at the best state is:  25.0\n",
      "CPU times: user 2.09 s, sys: 12.5 ms, total: 2.1 s\n",
      "Wall time: 2.11 s\n"
     ]
    }
   ],
   "source": [
    "%%time\n",
    "best_state, best_fitness = mlrose.genetic_alg(problem, pop_size=200, mutation_prob=0.1, max_attempts=100, max_iters=1000, curve=False, random_state=2)\n",
    "print('The best state found is: ', best_state)\n",
    "print('The fitness at the best state is: ', best_fitness)"
   ]
  },
  {
   "cell_type": "code",
   "execution_count": 19,
   "metadata": {},
   "outputs": [
    {
     "name": "stdout",
     "output_type": "stream",
     "text": [
      "The best state found is:  [1 1 1 1 1 1 1 1 1 1 1 1 1 1 1 1 1 1 1 1 1 1 1 1 1 0 0 1 0 1 1 0 1 0 0 0 1\n",
      " 1 1 1 1 0 0 0 1 0 1 1 1 1 1 0 0 1 1 0 1 1 1 1 1 1 0 0 1 0 1 1 1 0 1 1 1 0\n",
      " 0 1 0 0 1 0 0 1 1 0 1 0 1 0 0 1 0 1 1 0 1 0 0 0 0 1]\n",
      "The fitness at the best state is:  25.0\n",
      "CPU times: user 2.08 s, sys: 10.2 ms, total: 2.09 s\n",
      "Wall time: 2.09 s\n"
     ]
    }
   ],
   "source": [
    "%%time\n",
    "best_state, best_fitness = mlrose.genetic_alg(problem, pop_size=200, mutation_prob=0.1, max_attempts=100, max_iters=2500, curve=False, random_state=2)\n",
    "print('The best state found is: ', best_state)\n",
    "print('The fitness at the best state is: ', best_fitness)"
   ]
  },
  {
   "cell_type": "code",
   "execution_count": 20,
   "metadata": {},
   "outputs": [
    {
     "name": "stdout",
     "output_type": "stream",
     "text": [
      "The best state found is:  [1 1 1 1 1 1 1 1 1 1 1 1 1 1 1 1 1 1 1 1 1 1 1 1 1 0 0 1 0 1 1 0 1 0 0 0 1\n",
      " 1 1 1 1 0 0 0 1 0 1 1 1 1 1 0 0 1 1 0 1 1 1 1 1 1 0 0 1 0 1 1 1 0 1 1 1 0\n",
      " 0 1 0 0 1 0 0 1 1 0 1 0 1 0 0 1 0 1 1 0 1 0 0 0 0 1]\n",
      "The fitness at the best state is:  25.0\n",
      "CPU times: user 2.07 s, sys: 9.35 ms, total: 2.08 s\n",
      "Wall time: 2.08 s\n"
     ]
    }
   ],
   "source": [
    "%%time\n",
    "best_state, best_fitness = mlrose.genetic_alg(problem, pop_size=200, mutation_prob=0.1, max_attempts=100, max_iters=5000, curve=False, random_state=2)\n",
    "print('The best state found is: ', best_state)\n",
    "print('The fitness at the best state is: ', best_fitness)"
   ]
  },
  {
   "cell_type": "code",
   "execution_count": 67,
   "metadata": {},
   "outputs": [],
   "source": [
    "fitness_ga = [17,25,25,25,25]\n",
    "runtime_ga = [173, 2130,2110,2090,2080] #ms"
   ]
  },
  {
   "cell_type": "markdown",
   "metadata": {},
   "source": [
    "## 1.4 MIMIC"
   ]
  },
  {
   "cell_type": "code",
   "execution_count": 22,
   "metadata": {},
   "outputs": [
    {
     "name": "stdout",
     "output_type": "stream",
     "text": [
      "The best state found is:  [1 1 1 1 1 1 1 1 1 1 1 1 1 0 1 1 1 0 1 0 0 0 0 0 0 1 0 1 1 1 1 1 1 1 1 0 1\n",
      " 0 1 1 1 1 1 1 1 1 0 0 1 0 1 1 0 0 1 1 0 1 1 0 1 1 0 0 0 0 0 1 0 0 1 0 0 0\n",
      " 1 0 0 0 1 1 0 1 1 1 1 1 1 1 1 0 0 1 0 0 1 0 0 1 0 1]\n",
      "The fitness at the best state is:  13.0\n",
      "CPU times: user 27.3 s, sys: 86.2 ms, total: 27.4 s\n",
      "Wall time: 27.5 s\n"
     ]
    }
   ],
   "source": [
    "%%time\n",
    "best_state, best_fitness =mlrose.mimic(problem, pop_size=200, keep_pct=0.2, max_attempts=100, max_iters=10, curve=False, random_state=2, fast_mimic=False)\n",
    "print('The best state found is: ', best_state)\n",
    "print('The fitness at the best state is: ', best_fitness)"
   ]
  },
  {
   "cell_type": "code",
   "execution_count": 59,
   "metadata": {},
   "outputs": [
    {
     "name": "stdout",
     "output_type": "stream",
     "text": [
      "The best state found is:  [1 1 1 1 1 1 1 1 1 0 1 0 1 1 1 1 0 1 1 1 1 0 1 1 0 1 1 1 1 0 1 0 1 0 0 0 1\n",
      " 1 0 0 0 0 0 1 0 0 0 1 1 0 1 0 1 1 0 1 0 0 0 1 1 1 1 0 1 1 1 1 1 0 1 1 1 1\n",
      " 1 0 0 0 0 0 0 0 0 0 0 0 0 0 0 0 0 0 0 0 0 0 0 0 0 0]\n",
      "The fitness at the best state is:  25.0\n",
      "CPU times: user 6min 19s, sys: 1.35 s, total: 6min 20s\n",
      "Wall time: 6min 25s\n"
     ]
    }
   ],
   "source": [
    "%%time\n",
    "best_state, best_fitness =mlrose.mimic(problem, pop_size=200, keep_pct=0.2, max_attempts=100, max_iters=500, curve=False, random_state=2, fast_mimic=False)\n",
    "print('The best state found is: ', best_state)\n",
    "print('The fitness at the best state is: ', best_fitness)"
   ]
  },
  {
   "cell_type": "code",
   "execution_count": 60,
   "metadata": {},
   "outputs": [
    {
     "name": "stdout",
     "output_type": "stream",
     "text": [
      "The best state found is:  [1 1 1 1 1 1 1 1 1 0 1 0 1 1 1 1 0 1 1 1 1 0 1 1 0 1 1 1 1 0 1 0 1 0 0 0 1\n",
      " 1 0 0 0 0 0 1 0 0 0 1 1 0 1 0 1 1 0 1 0 0 0 1 1 1 1 0 1 1 1 1 1 0 1 1 1 1\n",
      " 1 0 0 0 0 0 0 0 0 0 0 0 0 0 0 0 0 0 0 0 0 0 0 0 0 0]\n",
      "The fitness at the best state is:  25.0\n",
      "CPU times: user 6min 17s, sys: 987 ms, total: 6min 17s\n",
      "Wall time: 6min 18s\n"
     ]
    }
   ],
   "source": [
    "%%time\n",
    "best_state, best_fitness =mlrose.mimic(problem, pop_size=200, keep_pct=0.2, max_attempts=100, max_iters=1000, curve=False, random_state=2, fast_mimic=False)\n",
    "print('The best state found is: ', best_state)\n",
    "print('The fitness at the best state is: ', best_fitness)"
   ]
  },
  {
   "cell_type": "code",
   "execution_count": 61,
   "metadata": {},
   "outputs": [
    {
     "name": "stdout",
     "output_type": "stream",
     "text": [
      "The best state found is:  [1 1 1 1 1 1 1 1 1 0 1 0 1 1 1 1 0 1 1 1 1 0 1 1 0 1 1 1 1 0 1 0 1 0 0 0 1\n",
      " 1 0 0 0 0 0 1 0 0 0 1 1 0 1 0 1 1 0 1 0 0 0 1 1 1 1 0 1 1 1 1 1 0 1 1 1 1\n",
      " 1 0 0 0 0 0 0 0 0 0 0 0 0 0 0 0 0 0 0 0 0 0 0 0 0 0]\n",
      "The fitness at the best state is:  25.0\n",
      "CPU times: user 6min 16s, sys: 1.11 s, total: 6min 18s\n",
      "Wall time: 6min 19s\n"
     ]
    }
   ],
   "source": [
    "%%time\n",
    "best_state, best_fitness =mlrose.mimic(problem, pop_size=200, keep_pct=0.2, max_attempts=100, max_iters=2500, curve=False, random_state=2, fast_mimic=False)\n",
    "print('The best state found is: ', best_state)\n",
    "print('The fitness at the best state is: ', best_fitness)"
   ]
  },
  {
   "cell_type": "code",
   "execution_count": 62,
   "metadata": {},
   "outputs": [
    {
     "name": "stdout",
     "output_type": "stream",
     "text": [
      "The best state found is:  [1 1 1 1 1 1 1 1 1 0 1 0 1 1 1 1 0 1 1 1 1 0 1 1 0 1 1 1 1 0 1 0 1 0 0 0 1\n",
      " 1 0 0 0 0 0 1 0 0 0 1 1 0 1 0 1 1 0 1 0 0 0 1 1 1 1 0 1 1 1 1 1 0 1 1 1 1\n",
      " 1 0 0 0 0 0 0 0 0 0 0 0 0 0 0 0 0 0 0 0 0 0 0 0 0 0]\n",
      "The fitness at the best state is:  25.0\n",
      "CPU times: user 6min 27s, sys: 1.63 s, total: 6min 29s\n",
      "Wall time: 6min 35s\n"
     ]
    }
   ],
   "source": [
    "%%time\n",
    "best_state, best_fitness =mlrose.mimic(problem, pop_size=200, keep_pct=0.2, max_attempts=100, max_iters=5000, curve=False, random_state=2, fast_mimic=False)\n",
    "print('The best state found is: ', best_state)\n",
    "print('The fitness at the best state is: ', best_fitness)"
   ]
  },
  {
   "cell_type": "code",
   "execution_count": 68,
   "metadata": {},
   "outputs": [],
   "source": [
    "fitness_mimic = [13,25,25,25,25]\n",
    "runtime_mimic = [2750, 385000,378000,379000,387000] #ms"
   ]
  },
  {
   "cell_type": "code",
   "execution_count": 247,
   "metadata": {},
   "outputs": [
    {
     "data": {
      "image/png": "[encoded data removed]",
      "text/plain": [
       "<Figure size 432x288 with 1 Axes>"
      ]
     },
     "metadata": {
      "needs_background": "light"
     },
     "output_type": "display_data"
    }
   ],
   "source": [
    "import matplotlib.pyplot as plt\n",
    "\n",
    "fig, ax = plt.subplots()\n",
    "\n",
    "ax.plot(iteration, fitness_rhc, label=\"RHC\")\n",
    "ax.plot(iteration, fitness_sa, label=\"SA\")\n",
    "ax.plot(iteration, fitness_ga, label=\"GA\")\n",
    "ax.plot(iteration, fitness_mimic, label=\"MIMIC\")\n",
    "ax.legend(loc=0); # upper left corner\n",
    "ax.set_xlim(0,5000)\n",
    "# ax.set_ylim(0, 14)\n",
    "ax.grid(color='k', alpha=0.3, linestyle='dashed', linewidth=0.4)\n",
    "ax.set_xlabel('No. of Iterations')\n",
    "ax.set_ylabel('Fitness')\n",
    "plt.savefig('fitness.png')\n",
    "# ax.set_title('No. of Iterations');"
   ]
  },
  {
   "cell_type": "code",
   "execution_count": 248,
   "metadata": {},
   "outputs": [
    {
     "data": {
      "image/png": "[encoded data removed]",
      "text/plain": [
       "<Figure size 432x288 with 1 Axes>"
      ]
     },
     "metadata": {
      "needs_background": "light"
     },
     "output_type": "display_data"
    }
   ],
   "source": [
    "fig, ax = plt.subplots()\n",
    "\n",
    "ax.plot(iteration, runtime_rhc, label=\"RHC\")\n",
    "ax.plot(iteration, runtime_sa, label=\"SA\")\n",
    "ax.plot(iteration, runtime_ga, label=\"GA\")\n",
    "ax.plot(iteration, runtime_mimic, label=\"MIMIC\")\n",
    "ax.legend(loc=0); # upper left corner\n",
    "ax.set_xlim(0,5000)\n",
    "# ax.set_ylim(0, 10000000)\n",
    "# plt.yscale('log')\n",
    "plt.yscale('log')\n",
    "ax.grid(color='k', alpha=0.3, linestyle='dashed', linewidth=0.4)\n",
    "ax.set_xlabel('No. of Iterations')\n",
    "ax.set_ylabel('Wall Clock Time (ms)')\n",
    "plt.savefig('runtime.png')"
   ]
  },
  {
   "cell_type": "markdown",
   "metadata": {},
   "source": [
    "# Problem 2: Continuous Peaks Problem (MIMIC)\n",
    "\n",
    "## 2.1 randomized hill climbing\n",
    "\n",
    "fitness_cp = mlrose.ContinuousPeaks(t_pct=0.15)\n",
    "problem_cp = mlrose.DiscreteOpt(length = 20, fitness_fn = fitness_cp, maximize=True, max_val=2)"
   ]
  },
  {
   "cell_type": "code",
   "execution_count": 249,
   "metadata": {},
   "outputs": [],
   "source": [
    "fitness_cp = mlrose.ContinuousPeaks(t_pct=0.15) \n",
    "problem_cp = mlrose.DiscreteOpt(length = 20, fitness_fn = fitness_cp, maximize=True, max_val=2)"
   ]
  },
  {
   "cell_type": "code",
   "execution_count": 226,
   "metadata": {},
   "outputs": [
    {
     "name": "stdout",
     "output_type": "stream",
     "text": [
      "[0 0 0 0 0 0 0 0 0 0 0 0 0 1 1 1 1 0 1 1]\n",
      "33.0\n",
      "CPU times: user 31.1 ms, sys: 4.67 ms, total: 35.7 ms\n",
      "Wall time: 31.8 ms\n"
     ]
    }
   ],
   "source": [
    "%%time\n",
    "best_state, best_fitness = mlrose.random_hill_climb(problem_cp, max_attempts=100, max_iters=10, restarts=100, init_state=None, curve=False, random_state=2)\n",
    "print(best_state)\n",
    "print(best_fitness)"
   ]
  },
  {
   "cell_type": "code",
   "execution_count": 227,
   "metadata": {},
   "outputs": [
    {
     "name": "stdout",
     "output_type": "stream",
     "text": [
      "[0 0 0 0 0 0 0 0 0 0 0 0 0 0 0 0 1 1 1 1]\n",
      "36.0\n",
      "CPU times: user 344 ms, sys: 6.33 ms, total: 351 ms\n",
      "Wall time: 349 ms\n"
     ]
    }
   ],
   "source": [
    "%%time\n",
    "best_state, best_fitness = mlrose.random_hill_climb(problem_cp, max_attempts=100, max_iters=500, restarts=100, init_state=None, curve=False, random_state=2)\n",
    "print(best_state)\n",
    "print(best_fitness)"
   ]
  },
  {
   "cell_type": "code",
   "execution_count": 228,
   "metadata": {},
   "outputs": [
    {
     "name": "stdout",
     "output_type": "stream",
     "text": [
      "[0 0 0 0 0 0 0 0 0 0 0 0 0 0 0 0 1 1 1 1]\n",
      "36.0\n",
      "CPU times: user 350 ms, sys: 11.4 ms, total: 362 ms\n",
      "Wall time: 354 ms\n"
     ]
    }
   ],
   "source": [
    "%%time\n",
    "best_state, best_fitness = mlrose.random_hill_climb(problem_cp, max_attempts=100, max_iters=1000, restarts=100, init_state=None, curve=False, random_state=2)\n",
    "print(best_state)\n",
    "print(best_fitness)"
   ]
  },
  {
   "cell_type": "code",
   "execution_count": 229,
   "metadata": {},
   "outputs": [
    {
     "name": "stdout",
     "output_type": "stream",
     "text": [
      "[0 0 0 0 0 0 0 0 0 0 0 0 0 0 0 0 1 1 1 1]\n",
      "36.0\n",
      "CPU times: user 358 ms, sys: 21.9 ms, total: 380 ms\n",
      "Wall time: 363 ms\n"
     ]
    }
   ],
   "source": [
    "%%time\n",
    "best_state, best_fitness = mlrose.random_hill_climb(problem_cp, max_attempts=100, max_iters=2500, restarts=100, init_state=None, curve=False, random_state=2)\n",
    "print(best_state)\n",
    "print(best_fitness)"
   ]
  },
  {
   "cell_type": "code",
   "execution_count": 230,
   "metadata": {},
   "outputs": [
    {
     "name": "stdout",
     "output_type": "stream",
     "text": [
      "[0 0 0 0 0 0 0 0 0 0 0 0 0 0 0 0 1 1 1 1]\n",
      "36.0\n",
      "CPU times: user 370 ms, sys: 36.7 ms, total: 407 ms\n",
      "Wall time: 376 ms\n"
     ]
    }
   ],
   "source": [
    "%%time\n",
    "best_state, best_fitness = mlrose.random_hill_climb(problem_cp, max_attempts=100, max_iters=5000, restarts=100, init_state=None, curve=False, random_state=2)\n",
    "print(best_state)\n",
    "print(best_fitness)"
   ]
  },
  {
   "cell_type": "code",
   "execution_count": 250,
   "metadata": {},
   "outputs": [],
   "source": [
    "fitness_rhc_2 = [33,36,36,36,36]\n",
    "runtime_rhc_2 = [31.8, 394,354,363,376] #ms"
   ]
  },
  {
   "cell_type": "markdown",
   "metadata": {},
   "source": [
    "## 2.2 simulated annealing"
   ]
  },
  {
   "cell_type": "code",
   "execution_count": 231,
   "metadata": {},
   "outputs": [
    {
     "name": "stdout",
     "output_type": "stream",
     "text": [
      "[0 0 0 1 0 0 0 0 0 1 1 1 1 1 1 1 1 1 0 0]\n",
      "29.0\n",
      "CPU times: user 1.16 ms, sys: 217 µs, total: 1.37 ms\n",
      "Wall time: 1.2 ms\n"
     ]
    }
   ],
   "source": [
    "%%time\n",
    "schedule = mlrose.ExpDecay(init_temp=10000, exp_const=0.55, min_temp=0.01)\n",
    "best_state, best_fitness = mlrose.simulated_annealing(problem_cp, schedule=schedule, max_attempts=100, max_iters=10, init_state=None, curve=False, random_state=2)\n",
    "print(best_state)\n",
    "print(best_fitness)"
   ]
  },
  {
   "cell_type": "code",
   "execution_count": 232,
   "metadata": {},
   "outputs": [
    {
     "name": "stdout",
     "output_type": "stream",
     "text": [
      "[0 0 0 0 1 1 1 1 1 1 1 1 1 1 1 1 1 1 1 1]\n",
      "36.0\n",
      "CPU times: user 11.1 ms, sys: 2.54 ms, total: 13.6 ms\n",
      "Wall time: 11.3 ms\n"
     ]
    }
   ],
   "source": [
    "%%time\n",
    "schedule = mlrose.ExpDecay(init_temp=10000, exp_const=0.55, min_temp=0.01)\n",
    "best_state, best_fitness = mlrose.simulated_annealing(problem_cp, schedule=schedule, max_attempts=100, max_iters=500, init_state=None, curve=False, random_state=2)\n",
    "print(best_state)\n",
    "print(best_fitness)"
   ]
  },
  {
   "cell_type": "code",
   "execution_count": 233,
   "metadata": {},
   "outputs": [
    {
     "name": "stdout",
     "output_type": "stream",
     "text": [
      "[0 0 0 0 1 1 1 1 1 1 1 1 1 1 1 1 1 1 1 1]\n",
      "36.0\n",
      "CPU times: user 10.7 ms, sys: 2.4 ms, total: 13 ms\n",
      "Wall time: 11 ms\n"
     ]
    }
   ],
   "source": [
    "%%time\n",
    "schedule = mlrose.ExpDecay(init_temp=10000, exp_const=0.55, min_temp=0.01)\n",
    "best_state, best_fitness = mlrose.simulated_annealing(problem_cp, schedule=schedule, max_attempts=100, max_iters=1000, init_state=None, curve=False, random_state=2)\n",
    "print(best_state)\n",
    "print(best_fitness)"
   ]
  },
  {
   "cell_type": "code",
   "execution_count": 234,
   "metadata": {},
   "outputs": [
    {
     "name": "stdout",
     "output_type": "stream",
     "text": [
      "[0 0 0 0 1 1 1 1 1 1 1 1 1 1 1 1 1 1 1 1]\n",
      "36.0\n",
      "CPU times: user 11.6 ms, sys: 2.41 ms, total: 14 ms\n",
      "Wall time: 12 ms\n"
     ]
    }
   ],
   "source": [
    "%%time\n",
    "schedule = mlrose.ExpDecay(init_temp=10000, exp_const=0.55, min_temp=0.01)\n",
    "best_state, best_fitness = mlrose.simulated_annealing(problem_cp, schedule=schedule, max_attempts=100, max_iters=2500, init_state=None, curve=False, random_state=2)\n",
    "print(best_state)\n",
    "print(best_fitness)"
   ]
  },
  {
   "cell_type": "code",
   "execution_count": 235,
   "metadata": {},
   "outputs": [
    {
     "name": "stdout",
     "output_type": "stream",
     "text": [
      "[0 0 0 0 1 1 1 1 1 1 1 1 1 1 1 1 1 1 1 1]\n",
      "36.0\n",
      "CPU times: user 135 ms, sys: 16.7 ms, total: 152 ms\n",
      "Wall time: 138 ms\n"
     ]
    }
   ],
   "source": [
    "%%time\n",
    "schedule = mlrose.ExpDecay(init_temp=10000, exp_const=0.55, min_temp=0.01)\n",
    "best_state, best_fitness = mlrose.simulated_annealing(problem_cp, schedule=schedule, max_attempts=10000, max_iters=5000, init_state=None, curve=False, random_state=2)\n",
    "print(best_state)\n",
    "print(best_fitness)"
   ]
  },
  {
   "cell_type": "code",
   "execution_count": 251,
   "metadata": {},
   "outputs": [],
   "source": [
    "fitness_sa_2 = [29,36,36,36,36]\n",
    "runtime_sa_2 = [1.2, 11.3,11,12,138] #ms"
   ]
  },
  {
   "cell_type": "markdown",
   "metadata": {},
   "source": [
    "## 2.3 genetic algorithm"
   ]
  },
  {
   "cell_type": "code",
   "execution_count": 236,
   "metadata": {},
   "outputs": [
    {
     "name": "stdout",
     "output_type": "stream",
     "text": [
      "The best state found is:  [1 1 1 1 1 1 1 1 1 1 1 1 1 1 1 0 0 0 0 0]\n",
      "The fitness at the best state is:  35.0\n",
      "CPU times: user 156 ms, sys: 3.85 ms, total: 160 ms\n",
      "Wall time: 159 ms\n"
     ]
    }
   ],
   "source": [
    "%%time\n",
    "best_state, best_fitness = mlrose.genetic_alg(problem_cp, pop_size=200, mutation_prob=0.1, max_attempts=100, max_iters=10, curve=False, random_state=2)\n",
    "print('The best state found is: ', best_state)\n",
    "print('The fitness at the best state is: ', best_fitness)"
   ]
  },
  {
   "cell_type": "code",
   "execution_count": 237,
   "metadata": {},
   "outputs": [
    {
     "name": "stdout",
     "output_type": "stream",
     "text": [
      "The best state found is:  [1 1 1 1 1 1 1 1 1 1 1 1 1 1 1 0 0 0 0 0]\n",
      "The fitness at the best state is:  35.0\n",
      "CPU times: user 1.5 s, sys: 11.8 ms, total: 1.51 s\n",
      "Wall time: 1.52 s\n"
     ]
    }
   ],
   "source": [
    "%%time\n",
    "best_state, best_fitness = mlrose.genetic_alg(problem_cp, pop_size=200, mutation_prob=0.1, max_attempts=100, max_iters=500, curve=False, random_state=2)\n",
    "print('The best state found is: ', best_state)\n",
    "print('The fitness at the best state is: ', best_fitness)"
   ]
  },
  {
   "cell_type": "code",
   "execution_count": 238,
   "metadata": {},
   "outputs": [
    {
     "name": "stdout",
     "output_type": "stream",
     "text": [
      "The best state found is:  [1 1 1 1 1 1 1 1 1 1 1 1 1 1 1 0 0 0 0 0]\n",
      "The fitness at the best state is:  35.0\n",
      "CPU times: user 1.5 s, sys: 12.2 ms, total: 1.51 s\n",
      "Wall time: 1.51 s\n"
     ]
    }
   ],
   "source": [
    "%%time\n",
    "best_state, best_fitness = mlrose.genetic_alg(problem_cp, pop_size=200, mutation_prob=0.1, max_attempts=100, max_iters=1000, curve=False, random_state=2)\n",
    "print('The best state found is: ', best_state)\n",
    "print('The fitness at the best state is: ', best_fitness)"
   ]
  },
  {
   "cell_type": "code",
   "execution_count": 239,
   "metadata": {},
   "outputs": [
    {
     "name": "stdout",
     "output_type": "stream",
     "text": [
      "The best state found is:  [1 1 1 1 1 1 1 1 1 1 1 1 1 1 1 0 0 0 0 0]\n",
      "The fitness at the best state is:  35.0\n",
      "CPU times: user 1.5 s, sys: 12.6 ms, total: 1.51 s\n",
      "Wall time: 1.51 s\n"
     ]
    }
   ],
   "source": [
    "%%time\n",
    "best_state, best_fitness = mlrose.genetic_alg(problem_cp, pop_size=200, mutation_prob=0.1, max_attempts=100, max_iters=2500, curve=False, random_state=2)\n",
    "print('The best state found is: ', best_state)\n",
    "print('The fitness at the best state is: ', best_fitness)"
   ]
  },
  {
   "cell_type": "code",
   "execution_count": 240,
   "metadata": {},
   "outputs": [
    {
     "name": "stdout",
     "output_type": "stream",
     "text": [
      "The best state found is:  [1 1 1 1 1 1 1 1 1 1 1 1 1 1 1 0 0 0 0 0]\n",
      "The fitness at the best state is:  35.0\n",
      "CPU times: user 154 ms, sys: 4.51 ms, total: 158 ms\n",
      "Wall time: 156 ms\n"
     ]
    }
   ],
   "source": [
    "%%time\n",
    "best_state, best_fitness = mlrose.genetic_alg(problem_cp, pop_size=200, mutation_prob=0.1, max_attempts=5000, max_iters=10, curve=False, random_state=2)\n",
    "print('The best state found is: ', best_state)\n",
    "print('The fitness at the best state is: ', best_fitness)"
   ]
  },
  {
   "cell_type": "code",
   "execution_count": 252,
   "metadata": {},
   "outputs": [],
   "source": [
    "fitness_ga_2 = [35,35,35,35,35]\n",
    "runtime_ga_2 = [159, 1520,1510,1510,1560] #ms"
   ]
  },
  {
   "cell_type": "markdown",
   "metadata": {},
   "source": [
    "## 2.4 MIMIC"
   ]
  },
  {
   "cell_type": "code",
   "execution_count": 242,
   "metadata": {},
   "outputs": [
    {
     "name": "stdout",
     "output_type": "stream",
     "text": [
      "The best state found is:  [1 1 1 1 0 0 0 0 0 0 0 0 0 0 0 0 0 0 0 0]\n",
      "The fitness at the best state is:  36.0\n",
      "CPU times: user 1.16 s, sys: 7.21 ms, total: 1.17 s\n",
      "Wall time: 1.17 s\n"
     ]
    }
   ],
   "source": [
    "%%time\n",
    "best_state, best_fitness =mlrose.mimic(problem_cp, pop_size=200, keep_pct=0.2, max_attempts=100, max_iters=10, curve=False, random_state=2, fast_mimic=False)\n",
    "print('The best state found is: ', best_state)\n",
    "print('The fitness at the best state is: ', best_fitness)"
   ]
  },
  {
   "cell_type": "code",
   "execution_count": 243,
   "metadata": {},
   "outputs": [
    {
     "name": "stdout",
     "output_type": "stream",
     "text": [
      "The best state found is:  [1 1 1 1 0 0 0 0 0 0 0 0 0 0 0 0 0 0 0 0]\n",
      "The fitness at the best state is:  36.0\n",
      "CPU times: user 12.4 s, sys: 55.6 ms, total: 12.4 s\n",
      "Wall time: 12.5 s\n"
     ]
    }
   ],
   "source": [
    "%%time\n",
    "best_state, best_fitness =mlrose.mimic(problem_cp, pop_size=200, keep_pct=0.2, max_attempts=100, max_iters=500, curve=False, random_state=2, fast_mimic=False)\n",
    "print('The best state found is: ', best_state)\n",
    "print('The fitness at the best state is: ', best_fitness)"
   ]
  },
  {
   "cell_type": "code",
   "execution_count": 244,
   "metadata": {},
   "outputs": [
    {
     "name": "stdout",
     "output_type": "stream",
     "text": [
      "The best state found is:  [1 1 1 1 0 0 0 0 0 0 0 0 0 0 0 0 0 0 0 0]\n",
      "The fitness at the best state is:  36.0\n",
      "CPU times: user 12.1 s, sys: 39.6 ms, total: 12.2 s\n",
      "Wall time: 12.2 s\n"
     ]
    }
   ],
   "source": [
    "%%time\n",
    "best_state, best_fitness =mlrose.mimic(problem_cp, pop_size=200, keep_pct=0.2, max_attempts=100, max_iters=1000, curve=False, random_state=2, fast_mimic=False)\n",
    "print('The best state found is: ', best_state)\n",
    "print('The fitness at the best state is: ', best_fitness)"
   ]
  },
  {
   "cell_type": "code",
   "execution_count": 245,
   "metadata": {},
   "outputs": [
    {
     "name": "stdout",
     "output_type": "stream",
     "text": [
      "The best state found is:  [1 1 1 1 0 0 0 0 0 0 0 0 0 0 0 0 0 0 0 0]\n",
      "The fitness at the best state is:  36.0\n",
      "CPU times: user 12.4 s, sys: 54.9 ms, total: 12.4 s\n",
      "Wall time: 12.4 s\n"
     ]
    }
   ],
   "source": [
    "%%time\n",
    "best_state, best_fitness =mlrose.mimic(problem_cp, pop_size=200, keep_pct=0.2, max_attempts=100, max_iters=2500, curve=False, random_state=2, fast_mimic=False)\n",
    "print('The best state found is: ', best_state)\n",
    "print('The fitness at the best state is: ', best_fitness)"
   ]
  },
  {
   "cell_type": "code",
   "execution_count": 246,
   "metadata": {},
   "outputs": [
    {
     "name": "stdout",
     "output_type": "stream",
     "text": [
      "The best state found is:  [1 1 1 1 0 0 0 0 0 0 0 0 0 0 0 0 0 0 0 0]\n",
      "The fitness at the best state is:  36.0\n",
      "CPU times: user 12.4 s, sys: 54.4 ms, total: 12.5 s\n",
      "Wall time: 12.5 s\n"
     ]
    }
   ],
   "source": [
    "%%time\n",
    "best_state, best_fitness =mlrose.mimic(problem_cp, pop_size=200, keep_pct=0.2, max_attempts=100, max_iters=5000, curve=False, random_state=2, fast_mimic=False)\n",
    "print('The best state found is: ', best_state)\n",
    "print('The fitness at the best state is: ', best_fitness)"
   ]
  },
  {
   "cell_type": "code",
   "execution_count": 253,
   "metadata": {},
   "outputs": [],
   "source": [
    "fitness_mimic_2 = [36,36,36,36,36]\n",
    "runtime_mimic_2 = [1170, 1250,1220,1240,1250] #ms"
   ]
  },
  {
   "cell_type": "code",
   "execution_count": 255,
   "metadata": {},
   "outputs": [
    {
     "data": {
      "image/png": "[encoded data removed]",
      "text/plain": [
       "<Figure size 432x288 with 1 Axes>"
      ]
     },
     "metadata": {
      "needs_background": "light"
     },
     "output_type": "display_data"
    }
   ],
   "source": [
    "fig, ax = plt.subplots()\n",
    "\n",
    "ax.plot(iteration, fitness_rhc_2, label=\"RHC\")\n",
    "ax.plot(iteration, fitness_sa_2, label=\"SA\")\n",
    "ax.plot(iteration, fitness_ga_2, label=\"GA\")\n",
    "ax.plot(iteration, fitness_mimic_2, label=\"MIMIC\")\n",
    "ax.legend(loc=0); # upper left corner\n",
    "ax.set_xlim(0,5000)\n",
    "# ax.set_ylim(0, 14)\n",
    "ax.grid(color='k', alpha=0.3, linestyle='dashed', linewidth=0.4)\n",
    "ax.set_xlabel('No. of Iterations')\n",
    "ax.set_ylabel('Fitness')\n",
    "plt.savefig('fitness_2.png')\n",
    "# ax.set_title('No. of Iterations');"
   ]
  },
  {
   "cell_type": "code",
   "execution_count": 256,
   "metadata": {},
   "outputs": [
    {
     "data": {
      "image/png": "[encoded data removed]",
      "text/plain": [
       "<Figure size 432x288 with 1 Axes>"
      ]
     },
     "metadata": {
      "needs_background": "light"
     },
     "output_type": "display_data"
    }
   ],
   "source": [
    "fig, ax = plt.subplots()\n",
    "\n",
    "ax.plot(iteration, runtime_rhc_2, label=\"RHC\")\n",
    "ax.plot(iteration, runtime_sa_2, label=\"SA\")\n",
    "ax.plot(iteration, runtime_ga_2, label=\"GA\")\n",
    "ax.plot(iteration, runtime_mimic_2, label=\"MIMIC\")\n",
    "ax.legend(loc=0); # upper left corner\n",
    "ax.set_xlim(0,5000)\n",
    "# ax.set_ylim(0, 10000000)\n",
    "# plt.yscale('log')\n",
    "plt.yscale('log')\n",
    "ax.grid(color='k', alpha=0.3, linestyle='dashed', linewidth=0.4)\n",
    "ax.set_xlabel('No. of Iterations')\n",
    "ax.set_ylabel('Wall Clock Time (ms)')\n",
    "plt.savefig('runtime_2.png')"
   ]
  },
  {
   "cell_type": "code",
   "execution_count": null,
   "metadata": {},
   "outputs": [],
   "source": []
  },
  {
   "cell_type": "markdown",
   "metadata": {},
   "source": [
    "# Problem 3: Travelling Saleperson Problems (GA)"
   ]
  },
  {
   "cell_type": "markdown",
   "metadata": {},
   "source": [
    "## 1.1 randomized hill climbing"
   ]
  },
  {
   "cell_type": "code",
   "execution_count": 182,
   "metadata": {},
   "outputs": [],
   "source": [
    "# Create list of city coordinates\n",
    "coords_list = [(1, 1), (4, 2), (5, 2), (6, 4), (4, 4), (3, 6), (1, 5), (2, 3)]\n",
    "\n",
    "# Initialize fitness function object using coords_list\n",
    "fitness_coords = mlrose.TravellingSales(coords = coords_list)\n",
    "problem_fit = mlrose.TSPOpt(length = 8, fitness_fn = fitness_coords, maximize=False)"
   ]
  },
  {
   "cell_type": "code",
   "execution_count": 204,
   "metadata": {},
   "outputs": [
    {
     "name": "stdout",
     "output_type": "stream",
     "text": [
      "[7 5 6 4 3 2 1 0]\n",
      "19.195036913004508\n",
      "CPU times: user 34.1 ms, sys: 3.15 ms, total: 37.3 ms\n",
      "Wall time: 35.6 ms\n"
     ]
    }
   ],
   "source": [
    "%%time\n",
    "best_state, best_fitness = mlrose.random_hill_climb(problem_fit, max_attempts=100, max_iters=10, restarts=20, init_state=None, curve=False, random_state=2)\n",
    "print(best_state)\n",
    "print(best_fitness)"
   ]
  },
  {
   "cell_type": "code",
   "execution_count": 205,
   "metadata": {},
   "outputs": [
    {
     "name": "stdout",
     "output_type": "stream",
     "text": [
      "[0 7 6 5 4 3 2 1]\n",
      "17.342617547667327\n",
      "CPU times: user 345 ms, sys: 4.37 ms, total: 349 ms\n",
      "Wall time: 349 ms\n"
     ]
    }
   ],
   "source": [
    "%%time\n",
    "best_state, best_fitness = mlrose.random_hill_climb(problem_fit, max_attempts=100, max_iters=500, restarts=20, init_state=None, curve=False, random_state=2)\n",
    "print(best_state)\n",
    "print(best_fitness)"
   ]
  },
  {
   "cell_type": "code",
   "execution_count": 206,
   "metadata": {},
   "outputs": [
    {
     "name": "stdout",
     "output_type": "stream",
     "text": [
      "[0 7 6 5 4 3 2 1]\n",
      "17.342617547667327\n",
      "CPU times: user 329 ms, sys: 2.88 ms, total: 331 ms\n",
      "Wall time: 331 ms\n"
     ]
    }
   ],
   "source": [
    "%%time\n",
    "best_state, best_fitness = mlrose.random_hill_climb(problem_fit, max_attempts=100, max_iters=1000, restarts=20, init_state=None, curve=False, random_state=2)\n",
    "print(best_state)\n",
    "print(best_fitness)"
   ]
  },
  {
   "cell_type": "code",
   "execution_count": 207,
   "metadata": {},
   "outputs": [
    {
     "name": "stdout",
     "output_type": "stream",
     "text": [
      "[0 7 6 5 4 3 2 1]\n",
      "17.342617547667327\n",
      "CPU times: user 342 ms, sys: 6.44 ms, total: 349 ms\n",
      "Wall time: 345 ms\n"
     ]
    }
   ],
   "source": [
    "%%time\n",
    "best_state, best_fitness = mlrose.random_hill_climb(problem_fit, max_attempts=100, max_iters=2500, restarts=20, init_state=None, curve=False, random_state=2)\n",
    "print(best_state)\n",
    "print(best_fitness)"
   ]
  },
  {
   "cell_type": "code",
   "execution_count": 208,
   "metadata": {},
   "outputs": [
    {
     "name": "stdout",
     "output_type": "stream",
     "text": [
      "[0 7 6 5 4 3 2 1]\n",
      "17.342617547667327\n",
      "CPU times: user 341 ms, sys: 4.94 ms, total: 345 ms\n",
      "Wall time: 345 ms\n"
     ]
    }
   ],
   "source": [
    "%%time\n",
    "best_state, best_fitness = mlrose.random_hill_climb(problem_fit, max_attempts=100, max_iters=5000, restarts=20, init_state=None, curve=False, random_state=2)\n",
    "print(best_state)\n",
    "print(best_fitness)"
   ]
  },
  {
   "cell_type": "code",
   "execution_count": 210,
   "metadata": {},
   "outputs": [],
   "source": [
    "fitness_rhc_1 = [19.20,17.34,17.34,17.34,17.34]\n",
    "runtime_rhc_1 = [35.6, 349, 331,345,345] #ms"
   ]
  },
  {
   "cell_type": "markdown",
   "metadata": {},
   "source": [
    "## 1.2 simulated annealing"
   ]
  },
  {
   "cell_type": "code",
   "execution_count": 261,
   "metadata": {},
   "outputs": [
    {
     "name": "stdout",
     "output_type": "stream",
     "text": [
      "[5 0 6 2 3 1 7 4]\n",
      "26.157863841879855\n",
      "CPU times: user 3.39 ms, sys: 1.28 ms, total: 4.67 ms\n",
      "Wall time: 3.58 ms\n"
     ]
    }
   ],
   "source": [
    "%%time\n",
    "schedule = mlrose.ExpDecay(init_temp=10000, exp_const=0.25, min_temp=0.01)\n",
    "best_state, best_fitness = mlrose.simulated_annealing(problem_fit, schedule=schedule, max_attempts=100, max_iters=10, init_state=None, curve=False, random_state=2)\n",
    "print(best_state)\n",
    "print(best_fitness)"
   ]
  },
  {
   "cell_type": "code",
   "execution_count": 262,
   "metadata": {},
   "outputs": [
    {
     "name": "stdout",
     "output_type": "stream",
     "text": [
      "[3 2 1 0 7 6 5 4]\n",
      "17.34261754766733\n",
      "CPU times: user 25.4 ms, sys: 1.63 ms, total: 27.1 ms\n",
      "Wall time: 26.6 ms\n"
     ]
    }
   ],
   "source": [
    "%%time\n",
    "schedule = mlrose.ExpDecay(init_temp=10000, exp_const=0.25, min_temp=0.01)\n",
    "best_state, best_fitness = mlrose.simulated_annealing(problem_fit, schedule=schedule, max_attempts=100, max_iters=500, init_state=None, curve=False, random_state=2)\n",
    "print(best_state)\n",
    "print(best_fitness)"
   ]
  },
  {
   "cell_type": "code",
   "execution_count": 263,
   "metadata": {},
   "outputs": [
    {
     "name": "stdout",
     "output_type": "stream",
     "text": [
      "[3 2 1 0 7 6 5 4]\n",
      "17.34261754766733\n",
      "CPU times: user 25.1 ms, sys: 2.47 ms, total: 27.6 ms\n",
      "Wall time: 25.5 ms\n"
     ]
    }
   ],
   "source": [
    "%%time\n",
    "schedule = mlrose.ExpDecay(init_temp=10000, exp_const=0.25, min_temp=0.01)\n",
    "best_state, best_fitness = mlrose.simulated_annealing(problem_fit, schedule=schedule, max_attempts=100, max_iters=1000, init_state=None, curve=False, random_state=2)\n",
    "print(best_state)\n",
    "print(best_fitness)"
   ]
  },
  {
   "cell_type": "code",
   "execution_count": 264,
   "metadata": {},
   "outputs": [
    {
     "name": "stdout",
     "output_type": "stream",
     "text": [
      "[3 2 1 0 7 6 5 4]\n",
      "17.34261754766733\n",
      "CPU times: user 25.7 ms, sys: 2.11 ms, total: 27.8 ms\n",
      "Wall time: 26.1 ms\n"
     ]
    }
   ],
   "source": [
    "%%time\n",
    "schedule = mlrose.ExpDecay(init_temp=10000, exp_const=0.25, min_temp=0.01)\n",
    "best_state, best_fitness = mlrose.simulated_annealing(problem_fit, schedule=schedule, max_attempts=100, max_iters=2500, init_state=None, curve=False, random_state=2)\n",
    "print(best_state)\n",
    "print(best_fitness)"
   ]
  },
  {
   "cell_type": "code",
   "execution_count": 265,
   "metadata": {},
   "outputs": [
    {
     "name": "stdout",
     "output_type": "stream",
     "text": [
      "[3 2 1 0 7 6 5 4]\n",
      "17.34261754766733\n",
      "CPU times: user 25.4 ms, sys: 2.19 ms, total: 27.6 ms\n",
      "Wall time: 25.7 ms\n"
     ]
    }
   ],
   "source": [
    "%%time\n",
    "schedule = mlrose.ExpDecay(init_temp=10000, exp_const=0.25, min_temp=0.01)\n",
    "best_state, best_fitness = mlrose.simulated_annealing(problem_fit, schedule=schedule, max_attempts=100, max_iters=5000, init_state=None, curve=False, random_state=2)\n",
    "print(best_state)\n",
    "print(best_fitness)"
   ]
  },
  {
   "cell_type": "code",
   "execution_count": 266,
   "metadata": {},
   "outputs": [],
   "source": [
    "fitness_sa_1 = [26.15,17.34,17.34,17.34,17.35]\n",
    "runtime_sa_1 = [3.58, 26.6, 25.5,26.1,25.7] #ms"
   ]
  },
  {
   "cell_type": "markdown",
   "metadata": {},
   "source": [
    "## 1.3 genetic algorithm"
   ]
  },
  {
   "cell_type": "code",
   "execution_count": 176,
   "metadata": {},
   "outputs": [
    {
     "name": "stdout",
     "output_type": "stream",
     "text": [
      "[2 1 0 7 6 5 4 3]\n",
      "17.34261754766733\n",
      "CPU times: user 370 ms, sys: 3.83 ms, total: 374 ms\n",
      "Wall time: 374 ms\n"
     ]
    }
   ],
   "source": [
    "%%time\n",
    "best_state, best_fitness = mlrose.genetic_alg(problem_fit, pop_size=200, mutation_prob=1, max_attempts=100, max_iters=10, curve=False, random_state=2)\n",
    "print(best_state)\n",
    "print(best_fitness)"
   ]
  },
  {
   "cell_type": "code",
   "execution_count": 177,
   "metadata": {},
   "outputs": [
    {
     "name": "stdout",
     "output_type": "stream",
     "text": [
      "[1 2 3 4 5 6 7 0]\n",
      "17.342617547667327\n",
      "CPU times: user 4.27 s, sys: 22.7 ms, total: 4.29 s\n",
      "Wall time: 4.31 s\n"
     ]
    }
   ],
   "source": [
    "%%time\n",
    "best_state, best_fitness = mlrose.genetic_alg(problem_fit, pop_size=200, mutation_prob=1, max_attempts=100, max_iters=500, curve=False, random_state=2)\n",
    "print(best_state)\n",
    "print(best_fitness)"
   ]
  },
  {
   "cell_type": "code",
   "execution_count": 178,
   "metadata": {},
   "outputs": [
    {
     "name": "stdout",
     "output_type": "stream",
     "text": [
      "[1 2 3 4 5 6 7 0]\n",
      "17.342617547667327\n",
      "CPU times: user 4.17 s, sys: 19.3 ms, total: 4.19 s\n",
      "Wall time: 4.21 s\n"
     ]
    }
   ],
   "source": [
    "%%time\n",
    "best_state, best_fitness = mlrose.genetic_alg(problem_fit, pop_size=200, mutation_prob=1, max_attempts=100, max_iters=1000, curve=False, random_state=2)\n",
    "print(best_state)\n",
    "print(best_fitness)"
   ]
  },
  {
   "cell_type": "code",
   "execution_count": 179,
   "metadata": {},
   "outputs": [
    {
     "name": "stdout",
     "output_type": "stream",
     "text": [
      "[1 2 3 4 5 6 7 0]\n",
      "17.342617547667327\n",
      "CPU times: user 4.2 s, sys: 24.2 ms, total: 4.23 s\n",
      "Wall time: 4.24 s\n"
     ]
    }
   ],
   "source": [
    "%%time\n",
    "best_state, best_fitness = mlrose.genetic_alg(problem_fit, pop_size=200, mutation_prob=1, max_attempts=100, max_iters=2500, curve=False, random_state=2)\n",
    "print(best_state)\n",
    "print(best_fitness)"
   ]
  },
  {
   "cell_type": "code",
   "execution_count": 180,
   "metadata": {},
   "outputs": [
    {
     "name": "stdout",
     "output_type": "stream",
     "text": [
      "[1 2 3 4 5 6 7 0]\n",
      "17.342617547667327\n",
      "CPU times: user 4.18 s, sys: 18.1 ms, total: 4.2 s\n",
      "Wall time: 4.22 s\n"
     ]
    }
   ],
   "source": [
    "%%time\n",
    "best_state, best_fitness = mlrose.genetic_alg(problem_fit, pop_size=200, mutation_prob=1, max_attempts=100, max_iters=5000, curve=False, random_state=2)\n",
    "print(best_state)\n",
    "print(best_fitness)"
   ]
  },
  {
   "cell_type": "code",
   "execution_count": 213,
   "metadata": {},
   "outputs": [],
   "source": [
    "fitness_ga_1 = [17.34,17.34,17.34,17.34,17.34]\n",
    "runtime_ga_1 = [374, 4310, 4210,4240,4220] #ms"
   ]
  },
  {
   "cell_type": "markdown",
   "metadata": {},
   "source": [
    "## 1.4  MIMIC"
   ]
  },
  {
   "cell_type": "code",
   "execution_count": 197,
   "metadata": {},
   "outputs": [
    {
     "name": "stdout",
     "output_type": "stream",
     "text": [
      "[7 6 5 4 3 1 2 0]\n",
      "18.89580466036301\n",
      "CPU times: user 1.02 s, sys: 6.62 ms, total: 1.03 s\n",
      "Wall time: 1.03 s\n"
     ]
    }
   ],
   "source": [
    "%%time\n",
    "best_state, best_fitness = mlrose.mimic(problem_fit, pop_size=200, keep_pct=0.02, max_attempts=10, max_iters=10, curve=False, random_state=2, fast_mimic=False)\n",
    "print(best_state)\n",
    "print(best_fitness)"
   ]
  },
  {
   "cell_type": "code",
   "execution_count": 198,
   "metadata": {},
   "outputs": [
    {
     "name": "stdout",
     "output_type": "stream",
     "text": [
      "[7 6 5 4 3 1 2 0]\n",
      "18.89580466036301\n",
      "CPU times: user 1.12 s, sys: 8.25 ms, total: 1.13 s\n",
      "Wall time: 1.13 s\n"
     ]
    }
   ],
   "source": [
    "%%time\n",
    "best_state, best_fitness = mlrose.mimic(problem_fit, pop_size=200, keep_pct=0.02, max_attempts=10, max_iters=500, curve=False, random_state=2, fast_mimic=False)\n",
    "print(best_state)\n",
    "print(best_fitness)"
   ]
  },
  {
   "cell_type": "code",
   "execution_count": 199,
   "metadata": {},
   "outputs": [
    {
     "name": "stdout",
     "output_type": "stream",
     "text": [
      "[7 6 5 4 3 1 2 0]\n",
      "18.89580466036301\n",
      "CPU times: user 1.16 s, sys: 8.56 ms, total: 1.17 s\n",
      "Wall time: 1.17 s\n"
     ]
    }
   ],
   "source": [
    "%%time\n",
    "best_state, best_fitness = mlrose.mimic(problem_fit, pop_size=200, keep_pct=0.02, max_attempts=10, max_iters=1000, curve=False, random_state=2, fast_mimic=False)\n",
    "print(best_state)\n",
    "print(best_fitness)"
   ]
  },
  {
   "cell_type": "code",
   "execution_count": 200,
   "metadata": {},
   "outputs": [
    {
     "name": "stdout",
     "output_type": "stream",
     "text": [
      "[7 6 5 4 3 1 2 0]\n",
      "18.89580466036301\n",
      "CPU times: user 1.17 s, sys: 10.5 ms, total: 1.18 s\n",
      "Wall time: 1.19 s\n"
     ]
    }
   ],
   "source": [
    "%%time\n",
    "best_state, best_fitness = mlrose.mimic(problem_fit, pop_size=200, keep_pct=0.02, max_attempts=10, max_iters=2500, curve=False, random_state=2, fast_mimic=False)\n",
    "print(best_state)\n",
    "print(best_fitness)"
   ]
  },
  {
   "cell_type": "code",
   "execution_count": 201,
   "metadata": {},
   "outputs": [
    {
     "name": "stdout",
     "output_type": "stream",
     "text": [
      "[7 6 5 4 3 1 2 0]\n",
      "18.89580466036301\n",
      "CPU times: user 1.16 s, sys: 7.3 ms, total: 1.17 s\n",
      "Wall time: 1.17 s\n"
     ]
    }
   ],
   "source": [
    "%%time\n",
    "best_state, best_fitness = mlrose.mimic(problem_fit, pop_size=200, keep_pct=0.02, max_attempts=10, max_iters=5000, curve=False, random_state=2, fast_mimic=False)\n",
    "print(best_state)\n",
    "print(best_fitness)"
   ]
  },
  {
   "cell_type": "code",
   "execution_count": 214,
   "metadata": {},
   "outputs": [],
   "source": [
    "fitness_mimic_1 = [18.9,18.9,18.9,18.9,18.9]\n",
    "runtime_mimic_1 = [1030, 1130, 1170,1190,1170] #ms"
   ]
  },
  {
   "cell_type": "code",
   "execution_count": 267,
   "metadata": {},
   "outputs": [
    {
     "data": {
      "image/png": "[encoded data removed]",
      "text/plain": [
       "<Figure size 432x288 with 1 Axes>"
      ]
     },
     "metadata": {
      "needs_background": "light"
     },
     "output_type": "display_data"
    }
   ],
   "source": [
    "\n",
    "fig, ax = plt.subplots()\n",
    "\n",
    "ax.plot(iteration, fitness_rhc_1, label=\"RHC\")\n",
    "ax.plot(iteration, fitness_sa_1, label=\"SA\")\n",
    "ax.plot(iteration, fitness_ga_1, label=\"GA\")\n",
    "ax.plot(iteration, fitness_mimic_1, label=\"MIMIC\")\n",
    "ax.legend(loc=0); # upper left corner\n",
    "ax.set_xlim(0,5000)\n",
    "# ax.set_ylim(0, 14)\n",
    "ax.grid(color='k', alpha=0.3, linestyle='dashed', linewidth=0.4)\n",
    "ax.set_xlabel('No. of Iterations')\n",
    "ax.set_ylabel('Fitness')\n",
    "plt.savefig('fitness1.png')\n",
    "# ax.set_title('No. of Iterations');"
   ]
  },
  {
   "cell_type": "code",
   "execution_count": 268,
   "metadata": {},
   "outputs": [
    {
     "data": {
      "image/png": "[encoded data removed]",
      "text/plain": [
       "<Figure size 432x288 with 1 Axes>"
      ]
     },
     "metadata": {
      "needs_background": "light"
     },
     "output_type": "display_data"
    }
   ],
   "source": [
    "fig, ax = plt.subplots()\n",
    "\n",
    "ax.plot(iteration, runtime_rhc_1, label=\"RHC\")\n",
    "ax.plot(iteration, runtime_sa_1, label=\"SA\")\n",
    "ax.plot(iteration, runtime_ga_1, label=\"GA\")\n",
    "ax.plot(iteration, runtime_mimic_1, label=\"MIMIC\")\n",
    "ax.legend(loc=0); # upper left corner\n",
    "ax.set_xlim(0,5000)\n",
    "# ax.set_ylim(0, 10000000)\n",
    "# plt.yscale('log')\n",
    "plt.yscale('log')\n",
    "ax.grid(color='k', alpha=0.3, linestyle='dashed', linewidth=0.4)\n",
    "ax.set_xlabel('No. of Iterations')\n",
    "ax.set_ylabel('Wall Clock Time (ms)')\n",
    "plt.savefig('runtime1.png')"
   ]
  },
  {
   "cell_type": "code",
   "execution_count": null,
   "metadata": {},
   "outputs": [],
   "source": []
  }
 ],
 "metadata": {
  "kernelspec": {
   "display_name": "Python 3",
   "language": "python",
   "name": "python3"
  },
  "language_info": {
   "codemirror_mode": {
    "name": "ipython",
    "version": 3
   },
   "file_extension": ".py",
   "mimetype": "text/x-python",
   "name": "python",
   "nbconvert_exporter": "python",
   "pygments_lexer": "ipython3",
   "version": "3.6.5"
  }
 },
 "nbformat": 4,
 "nbformat_minor": 2
}
